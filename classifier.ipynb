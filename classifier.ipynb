{
 "cells": [
  {
   "cell_type": "code",
   "execution_count": null,
   "id": "49c8b95b-41ca-4bc9-9c32-4ff097a75fe1",
   "metadata": {
    "tags": []
   },
   "outputs": [],
   "source": [
    "import numpy as np\n",
    "from astropy.io import fits\n",
    "from matplotlib import pyplot as plt\n",
    "from sklearn.neighbors import KNeighborsRegressor\n",
    "from sklearn.metrics import classification_report\n",
    "from sklearn.neighbors import KNeighborsClassifier\n",
    "import os\n",
    "import pandas as pd\n",
    "from sklearn.svm import SVC\n",
    "from sklearn.cross_validation import train_test_split\n",
    "from sklearn.tree import DecisionTreeRegressor\n",
    "from sklearn.tree import DecisionTreeClassifier\n",
    "from sklearn.cross_validation import cross_val_score\n",
    "from sklearn.metrics import confusion_matrix\n",
    "from sklearn.metrics import accuracy_score, precision_score, recall_score, f1_score"
   ]
  },
  {
   "cell_type": "code",
   "execution_count": null,
   "id": "3ae4afd8-857e-49d2-bb1b-7ed9aa6e2d47",
   "metadata": {},
   "outputs": [],
   "source": []
  },
  {
   "cell_type": "code",
   "execution_count": null,
   "id": "35bc3afc-11ee-493a-9b7d-af824a86911f",
   "metadata": {},
   "outputs": [],
   "source": [
    "\n",
    "# read the file\n",
    "filepath = ''\n",
    "with fits.open(filepath) as data:\n",
    "    df = pandas.DataFrame(data[0].data)\n",
    "\n",
    "#on notebook just print df\n",
    "print(\"Dataframe:\\n\", df.head())\n",
    "\n",
    "target_column = ''\n",
    "y = data[target_column]\n",
    "X = data.drop(columns=[target_column])\n",
    "\n",
    "\n",
    "\n",
    "X_train, X_test, y_train, y_test = train_test_split(X, y,random_state=0)\n",
    "knn = KNeighborsClassifier(n_neighbors = 4) #choose classifier\n",
    "KNN_fit = knn.fit(X_train, y_train)#train classifier\n",
    "accuracy = KNN_fit.score(X_test, y_test) #Estimate the accuracy of the classifier on future data\n",
    "print ('KNN score: {}\\n'.format(accuracy))\n",
    "cv_scores = cross_val_score(knn, features, targets)\n",
    "print('Cross-validation scores (3-fold):', cv_scores)\n",
    "print('Mean cross-validation score (3-fold): {:.3f}'.format(np.mean(cv_scores)))"
   ]
  }
 ],
 "metadata": {
  "kernelspec": {
   "display_name": "Python 3 (ipykernel)",
   "language": "python",
   "name": "python3"
  },
  "language_info": {
   "name": ""
  }
 },
 "nbformat": 4,
 "nbformat_minor": 5
}
