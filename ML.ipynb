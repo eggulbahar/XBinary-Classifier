{
 "cells": [
  {
   "cell_type": "code",
   "execution_count": 3,
   "id": "c3ab050c-761a-42f6-a821-892ba5d63a74",
   "metadata": {
    "tags": []
   },
   "outputs": [],
   "source": [
    "import numpy as np\n",
    "from astropy.io import fits\n",
    "from matplotlib import pyplot as plt\n",
    "from sklearn.neighbors import KNeighborsRegressor\n",
    "from sklearn.metrics import classification_report\n",
    "from sklearn.neighbors import KNeighborsClassifier\n",
    "import os\n",
    "import pandas as pd\n",
    "from sklearn.svm import SVC\n",
    "from sklearn.model_selection import train_test_split\n",
    "from sklearn.tree import DecisionTreeRegressor\n",
    "from sklearn.tree import DecisionTreeClassifier\n",
    "from sklearn.model_selection import cross_val_score\n",
    "from sklearn.metrics import confusion_matrix\n",
    "from sklearn.metrics import accuracy_score, precision_score, recall_score, f1_score"
   ]
  },
  {
   "cell_type": "code",
   "execution_count": 6,
   "id": "f67b4648-4f6b-4f63-97b1-a73c98b22cac",
   "metadata": {
    "tags": []
   },
   "outputs": [],
   "source": [
    "home = os.path.expanduser('~')\n",
    "workdir = home + \"/XBinary-Classifier\""
   ]
  },
  {
   "cell_type": "code",
   "execution_count": 4,
   "id": "ef7fd92e-3aa1-40aa-9bad-08f68c1dfcaf",
   "metadata": {
    "collapsed": true,
    "jupyter": {
     "outputs_hidden": true
    },
    "tags": []
   },
   "outputs": [
    {
     "name": "stdout",
     "output_type": "stream",
     "text": [
      "Defaulting to user installation because normal site-packages is not writeable\n",
      "Collecting scikit-learn\n",
      "  Downloading scikit_learn-1.5.1-cp311-cp311-manylinux_2_17_x86_64.manylinux2014_x86_64.whl.metadata (12 kB)\n",
      "Requirement already satisfied: numpy>=1.19.5 in /opt/miniconda/lib/python3.11/site-packages (from scikit-learn) (1.26.4)\n",
      "Collecting scipy>=1.6.0 (from scikit-learn)\n",
      "  Downloading scipy-1.14.0-cp311-cp311-manylinux_2_17_x86_64.manylinux2014_x86_64.whl.metadata (60 kB)\n",
      "\u001b[2K     \u001b[90m━━━━━━━━━━━━━━━━━━━━━━━━━━━━━━━━━━━━━━━━\u001b[0m \u001b[32m60.8/60.8 kB\u001b[0m \u001b[31m1.1 MB/s\u001b[0m eta \u001b[36m0:00:00\u001b[0ma \u001b[36m0:00:01\u001b[0m\n",
      "\u001b[?25hCollecting joblib>=1.2.0 (from scikit-learn)\n",
      "  Downloading joblib-1.4.2-py3-none-any.whl.metadata (5.4 kB)\n",
      "Collecting threadpoolctl>=3.1.0 (from scikit-learn)\n",
      "  Downloading threadpoolctl-3.5.0-py3-none-any.whl.metadata (13 kB)\n",
      "Downloading scikit_learn-1.5.1-cp311-cp311-manylinux_2_17_x86_64.manylinux2014_x86_64.whl (13.3 MB)\n",
      "\u001b[2K   \u001b[90m━━━━━━━━━━━━━━━━━━━━━━━━━━━━━━━━━━━━━━━━\u001b[0m \u001b[32m13.3/13.3 MB\u001b[0m \u001b[31m56.4 MB/s\u001b[0m eta \u001b[36m0:00:00\u001b[0m:00:01\u001b[0m:01\u001b[0m\n",
      "\u001b[?25hDownloading joblib-1.4.2-py3-none-any.whl (301 kB)\n",
      "\u001b[2K   \u001b[90m━━━━━━━━━━━━━━━━━━━━━━━━━━━━━━━━━━━━━━━━\u001b[0m \u001b[32m301.8/301.8 kB\u001b[0m \u001b[31m24.0 MB/s\u001b[0m eta \u001b[36m0:00:00\u001b[0m\n",
      "\u001b[?25hDownloading scipy-1.14.0-cp311-cp311-manylinux_2_17_x86_64.manylinux2014_x86_64.whl (41.1 MB)\n",
      "\u001b[2K   \u001b[90m━━━━━━━━━━━━━━━━━━━━━━━━━━━━━━━━━━━━━━━━\u001b[0m \u001b[32m41.1/41.1 MB\u001b[0m \u001b[31m54.3 MB/s\u001b[0m eta \u001b[36m0:00:00\u001b[0m:00:01\u001b[0m00:01\u001b[0m\n",
      "\u001b[?25hDownloading threadpoolctl-3.5.0-py3-none-any.whl (18 kB)\n",
      "Installing collected packages: threadpoolctl, scipy, joblib, scikit-learn\n",
      "Successfully installed joblib-1.4.2 scikit-learn-1.5.1 scipy-1.14.0 threadpoolctl-3.5.0\n",
      "Note: you may need to restart the kernel to use updated packages.\n"
     ]
    }
   ],
   "source": [
    "%pip install scikit-learn"
   ]
  },
  {
   "cell_type": "code",
   "execution_count": 25,
   "id": "3dcb956b-f36b-48f8-b194-ec4925b2e022",
   "metadata": {
    "tags": []
   },
   "outputs": [
    {
     "name": "stdout",
     "output_type": "stream",
     "text": [
      "Index(['NAME', 'RA', 'DEC', 'VMAG', 'BV_COLOR', 'PORB', 'FLUX', 'FLUX_MAX',\n",
      "       'LII', 'BII', 'VMAG_MIN', 'UB_COLOR', 'PULSE_PERIOD', 'target', 'FX',\n",
      "       'FX_MAX', 'PULSE_PER'],\n",
      "      dtype='object')\n"
     ]
    }
   ],
   "source": [
    "# read the file\n",
    "filepath = workdir + '/training.fits'\n",
    "with fits.open(filepath) as data:\n",
    "    df = pd.DataFrame(data[1].data)\n",
    "    print(df.columns)"
   ]
  },
  {
   "cell_type": "code",
   "execution_count": 28,
   "id": "3b3427df-7a8d-4bba-99f4-229668dd0d8d",
   "metadata": {
    "tags": []
   },
   "outputs": [
    {
     "data": {
      "text/html": [
       "<div>\n",
       "<style scoped>\n",
       "    .dataframe tbody tr th:only-of-type {\n",
       "        vertical-align: middle;\n",
       "    }\n",
       "\n",
       "    .dataframe tbody tr th {\n",
       "        vertical-align: top;\n",
       "    }\n",
       "\n",
       "    .dataframe thead th {\n",
       "        text-align: right;\n",
       "    }\n",
       "</style>\n",
       "<table border=\"1\" class=\"dataframe\">\n",
       "  <thead>\n",
       "    <tr style=\"text-align: right;\">\n",
       "      <th></th>\n",
       "      <th>NAME</th>\n",
       "      <th>RA</th>\n",
       "      <th>DEC</th>\n",
       "      <th>VMAG</th>\n",
       "      <th>BV_COLOR</th>\n",
       "      <th>PORB</th>\n",
       "      <th>FLUX</th>\n",
       "      <th>FLUX_MAX</th>\n",
       "      <th>LII</th>\n",
       "      <th>BII</th>\n",
       "      <th>VMAG_MIN</th>\n",
       "      <th>UB_COLOR</th>\n",
       "      <th>PULSE_PERIOD</th>\n",
       "      <th>target</th>\n",
       "      <th>FX</th>\n",
       "      <th>FX_MAX</th>\n",
       "      <th>PULSE_PER</th>\n",
       "    </tr>\n",
       "  </thead>\n",
       "  <tbody>\n",
       "    <tr>\n",
       "      <th>0</th>\n",
       "      <td>SAX J1603.9-7753</td>\n",
       "      <td>240.97500</td>\n",
       "      <td>-77.88500</td>\n",
       "      <td>0.00</td>\n",
       "      <td>0.00</td>\n",
       "      <td>0.0000</td>\n",
       "      <td>160.0</td>\n",
       "      <td>0</td>\n",
       "      <td>312.42847</td>\n",
       "      <td>-18.73093</td>\n",
       "      <td>0.0</td>\n",
       "      <td>0.0</td>\n",
       "      <td>0.0</td>\n",
       "      <td>0</td>\n",
       "      <td>NaN</td>\n",
       "      <td>NaN</td>\n",
       "      <td>NaN</td>\n",
       "    </tr>\n",
       "    <tr>\n",
       "      <th>1</th>\n",
       "      <td>2A 0521-720</td>\n",
       "      <td>80.11683</td>\n",
       "      <td>-71.96481</td>\n",
       "      <td>18.00</td>\n",
       "      <td>0.00</td>\n",
       "      <td>0.3400</td>\n",
       "      <td>9.0</td>\n",
       "      <td>44</td>\n",
       "      <td>283.09949</td>\n",
       "      <td>-32.69058</td>\n",
       "      <td>19.0</td>\n",
       "      <td>-0.8</td>\n",
       "      <td>0.0</td>\n",
       "      <td>0</td>\n",
       "      <td>NaN</td>\n",
       "      <td>NaN</td>\n",
       "      <td>NaN</td>\n",
       "    </tr>\n",
       "    <tr>\n",
       "      <th>2</th>\n",
       "      <td>RX J0532.7-6926</td>\n",
       "      <td>83.17833</td>\n",
       "      <td>-69.43833</td>\n",
       "      <td>0.00</td>\n",
       "      <td>0.00</td>\n",
       "      <td>0.0000</td>\n",
       "      <td>0.5</td>\n",
       "      <td>0</td>\n",
       "      <td>279.93933</td>\n",
       "      <td>-32.15468</td>\n",
       "      <td>0.0</td>\n",
       "      <td>0.0</td>\n",
       "      <td>0.0</td>\n",
       "      <td>0</td>\n",
       "      <td>NaN</td>\n",
       "      <td>NaN</td>\n",
       "      <td>NaN</td>\n",
       "    </tr>\n",
       "    <tr>\n",
       "      <th>3</th>\n",
       "      <td>4U 1254-69</td>\n",
       "      <td>194.40500</td>\n",
       "      <td>-69.28911</td>\n",
       "      <td>19.10</td>\n",
       "      <td>0.30</td>\n",
       "      <td>0.1638</td>\n",
       "      <td>25.0</td>\n",
       "      <td>0</td>\n",
       "      <td>303.48189</td>\n",
       "      <td>-6.42396</td>\n",
       "      <td>0.0</td>\n",
       "      <td>0.0</td>\n",
       "      <td>0.0</td>\n",
       "      <td>0</td>\n",
       "      <td>NaN</td>\n",
       "      <td>NaN</td>\n",
       "      <td>NaN</td>\n",
       "    </tr>\n",
       "    <tr>\n",
       "      <th>4</th>\n",
       "      <td>GS 1124-684</td>\n",
       "      <td>171.61125</td>\n",
       "      <td>-68.67572</td>\n",
       "      <td>13.30</td>\n",
       "      <td>0.30</td>\n",
       "      <td>0.4325</td>\n",
       "      <td>3000.0</td>\n",
       "      <td>0</td>\n",
       "      <td>295.30054</td>\n",
       "      <td>-7.07259</td>\n",
       "      <td>0.0</td>\n",
       "      <td>0.0</td>\n",
       "      <td>0.0</td>\n",
       "      <td>0</td>\n",
       "      <td>NaN</td>\n",
       "      <td>NaN</td>\n",
       "      <td>NaN</td>\n",
       "    </tr>\n",
       "    <tr>\n",
       "      <th>...</th>\n",
       "      <td>...</td>\n",
       "      <td>...</td>\n",
       "      <td>...</td>\n",
       "      <td>...</td>\n",
       "      <td>...</td>\n",
       "      <td>...</td>\n",
       "      <td>...</td>\n",
       "      <td>...</td>\n",
       "      <td>...</td>\n",
       "      <td>...</td>\n",
       "      <td>...</td>\n",
       "      <td>...</td>\n",
       "      <td>...</td>\n",
       "      <td>...</td>\n",
       "      <td>...</td>\n",
       "      <td>...</td>\n",
       "      <td>...</td>\n",
       "    </tr>\n",
       "    <tr>\n",
       "      <th>145</th>\n",
       "      <td>GRO J1750-27</td>\n",
       "      <td>267.30292</td>\n",
       "      <td>-26.64333</td>\n",
       "      <td>0.00</td>\n",
       "      <td>0.00</td>\n",
       "      <td>29.8000</td>\n",
       "      <td>NaN</td>\n",
       "      <td>999999</td>\n",
       "      <td>2.37283</td>\n",
       "      <td>0.50774</td>\n",
       "      <td>0.0</td>\n",
       "      <td>0.0</td>\n",
       "      <td>NaN</td>\n",
       "      <td>1</td>\n",
       "      <td>56.0</td>\n",
       "      <td>0.0</td>\n",
       "      <td>4.45</td>\n",
       "    </tr>\n",
       "    <tr>\n",
       "      <th>146</th>\n",
       "      <td>IGR J17544-2619</td>\n",
       "      <td>268.60533</td>\n",
       "      <td>-26.33128</td>\n",
       "      <td>12.65</td>\n",
       "      <td>1.79</td>\n",
       "      <td>0.0000</td>\n",
       "      <td>NaN</td>\n",
       "      <td>999999</td>\n",
       "      <td>3.23599</td>\n",
       "      <td>-0.33559</td>\n",
       "      <td>0.0</td>\n",
       "      <td>0.0</td>\n",
       "      <td>NaN</td>\n",
       "      <td>1</td>\n",
       "      <td>89.0</td>\n",
       "      <td>0.0</td>\n",
       "      <td>0.00</td>\n",
       "    </tr>\n",
       "    <tr>\n",
       "      <th>147</th>\n",
       "      <td>3A 0726-260</td>\n",
       "      <td>112.22333</td>\n",
       "      <td>-26.10806</td>\n",
       "      <td>11.60</td>\n",
       "      <td>0.30</td>\n",
       "      <td>34.5000</td>\n",
       "      <td>NaN</td>\n",
       "      <td>999999</td>\n",
       "      <td>240.28165</td>\n",
       "      <td>-4.05037</td>\n",
       "      <td>0.0</td>\n",
       "      <td>-0.6</td>\n",
       "      <td>NaN</td>\n",
       "      <td>1</td>\n",
       "      <td>1.2</td>\n",
       "      <td>4.7</td>\n",
       "      <td>103.20</td>\n",
       "    </tr>\n",
       "    <tr>\n",
       "      <th>148</th>\n",
       "      <td>SAX J1819.3-2525</td>\n",
       "      <td>274.83950</td>\n",
       "      <td>-25.42667</td>\n",
       "      <td>8.80</td>\n",
       "      <td>-0.20</td>\n",
       "      <td>2.8000</td>\n",
       "      <td>NaN</td>\n",
       "      <td>999999</td>\n",
       "      <td>6.75638</td>\n",
       "      <td>-4.79765</td>\n",
       "      <td>13.5</td>\n",
       "      <td>1.8</td>\n",
       "      <td>NaN</td>\n",
       "      <td>1</td>\n",
       "      <td>1.0</td>\n",
       "      <td>13000.0</td>\n",
       "      <td>0.00</td>\n",
       "    </tr>\n",
       "    <tr>\n",
       "      <th>149</th>\n",
       "      <td>SAX J1802.7-2017</td>\n",
       "      <td>270.66625</td>\n",
       "      <td>-20.28708</td>\n",
       "      <td>0.00</td>\n",
       "      <td>0.00</td>\n",
       "      <td>4.6000</td>\n",
       "      <td>NaN</td>\n",
       "      <td>999999</td>\n",
       "      <td>9.41747</td>\n",
       "      <td>1.04356</td>\n",
       "      <td>0.0</td>\n",
       "      <td>0.0</td>\n",
       "      <td>NaN</td>\n",
       "      <td>1</td>\n",
       "      <td>1.5</td>\n",
       "      <td>0.0</td>\n",
       "      <td>139.61</td>\n",
       "    </tr>\n",
       "  </tbody>\n",
       "</table>\n",
       "<p>150 rows × 17 columns</p>\n",
       "</div>"
      ],
      "text/plain": [
       "                 NAME         RA       DEC   VMAG  BV_COLOR     PORB    FLUX  \\\n",
       "0    SAX J1603.9-7753  240.97500 -77.88500   0.00      0.00   0.0000   160.0   \n",
       "1         2A 0521-720   80.11683 -71.96481  18.00      0.00   0.3400     9.0   \n",
       "2     RX J0532.7-6926   83.17833 -69.43833   0.00      0.00   0.0000     0.5   \n",
       "3          4U 1254-69  194.40500 -69.28911  19.10      0.30   0.1638    25.0   \n",
       "4         GS 1124-684  171.61125 -68.67572  13.30      0.30   0.4325  3000.0   \n",
       "..                ...        ...       ...    ...       ...      ...     ...   \n",
       "145      GRO J1750-27  267.30292 -26.64333   0.00      0.00  29.8000     NaN   \n",
       "146   IGR J17544-2619  268.60533 -26.33128  12.65      1.79   0.0000     NaN   \n",
       "147       3A 0726-260  112.22333 -26.10806  11.60      0.30  34.5000     NaN   \n",
       "148  SAX J1819.3-2525  274.83950 -25.42667   8.80     -0.20   2.8000     NaN   \n",
       "149  SAX J1802.7-2017  270.66625 -20.28708   0.00      0.00   4.6000     NaN   \n",
       "\n",
       "     FLUX_MAX        LII       BII  VMAG_MIN  UB_COLOR  PULSE_PERIOD  target  \\\n",
       "0           0  312.42847 -18.73093       0.0       0.0           0.0       0   \n",
       "1          44  283.09949 -32.69058      19.0      -0.8           0.0       0   \n",
       "2           0  279.93933 -32.15468       0.0       0.0           0.0       0   \n",
       "3           0  303.48189  -6.42396       0.0       0.0           0.0       0   \n",
       "4           0  295.30054  -7.07259       0.0       0.0           0.0       0   \n",
       "..        ...        ...       ...       ...       ...           ...     ...   \n",
       "145    999999    2.37283   0.50774       0.0       0.0           NaN       1   \n",
       "146    999999    3.23599  -0.33559       0.0       0.0           NaN       1   \n",
       "147    999999  240.28165  -4.05037       0.0      -0.6           NaN       1   \n",
       "148    999999    6.75638  -4.79765      13.5       1.8           NaN       1   \n",
       "149    999999    9.41747   1.04356       0.0       0.0           NaN       1   \n",
       "\n",
       "       FX   FX_MAX  PULSE_PER  \n",
       "0     NaN      NaN        NaN  \n",
       "1     NaN      NaN        NaN  \n",
       "2     NaN      NaN        NaN  \n",
       "3     NaN      NaN        NaN  \n",
       "4     NaN      NaN        NaN  \n",
       "..    ...      ...        ...  \n",
       "145  56.0      0.0       4.45  \n",
       "146  89.0      0.0       0.00  \n",
       "147   1.2      4.7     103.20  \n",
       "148   1.0  13000.0       0.00  \n",
       "149   1.5      0.0     139.61  \n",
       "\n",
       "[150 rows x 17 columns]"
      ]
     },
     "execution_count": 28,
     "metadata": {},
     "output_type": "execute_result"
    }
   ],
   "source": [
    "#on notebook just print df\n",
    "df"
   ]
  },
  {
   "cell_type": "code",
   "execution_count": 44,
   "id": "34fbbdd1-311e-4bae-8fd2-a64423e0ff5c",
   "metadata": {
    "tags": []
   },
   "outputs": [
    {
     "name": "stdout",
     "output_type": "stream",
     "text": [
      "<class 'pandas.core.frame.DataFrame'>\n",
      "RangeIndex: 150 entries, 0 to 149\n",
      "Data columns (total 17 columns):\n",
      " #   Column        Non-Null Count  Dtype  \n",
      "---  ------        --------------  -----  \n",
      " 0   NAME          150 non-null    object \n",
      " 1   RA            150 non-null    float64\n",
      " 2   DEC           150 non-null    float64\n",
      " 3   VMAG          150 non-null    float64\n",
      " 4   BV_COLOR      150 non-null    float64\n",
      " 5   PORB          150 non-null    float64\n",
      " 6   FLUX          93 non-null     float64\n",
      " 7   FLUX_MAX      150 non-null    float64\n",
      " 8   LII           150 non-null    float64\n",
      " 9   BII           150 non-null    float64\n",
      " 10  VMAG_MIN      150 non-null    float64\n",
      " 11  UB_COLOR      150 non-null    float64\n",
      " 12  PULSE_PERIOD  93 non-null     float64\n",
      " 13  target        150 non-null    int8   \n",
      " 14  FX            57 non-null     float64\n",
      " 15  FX_MAX        57 non-null     float64\n",
      " 16  PULSE_PER     57 non-null     float64\n",
      "dtypes: float64(15), int8(1), object(1)\n",
      "memory usage: 19.0+ KB\n"
     ]
    }
   ],
   "source": [
    "df['target'] = df['target'].astype(np.int8)\n",
    "df['FLUX_MAX'] = df['FLUX_MAX'].astype(np.float64)\n",
    "df.info()"
   ]
  },
  {
   "cell_type": "code",
   "execution_count": 66,
   "id": "f0d4cc0b-5240-4e71-a26b-a6045a292566",
   "metadata": {
    "tags": []
   },
   "outputs": [
    {
     "data": {
      "text/html": [
       "<div>\n",
       "<style scoped>\n",
       "    .dataframe tbody tr th:only-of-type {\n",
       "        vertical-align: middle;\n",
       "    }\n",
       "\n",
       "    .dataframe tbody tr th {\n",
       "        vertical-align: top;\n",
       "    }\n",
       "\n",
       "    .dataframe thead th {\n",
       "        text-align: right;\n",
       "    }\n",
       "</style>\n",
       "<table border=\"1\" class=\"dataframe\">\n",
       "  <thead>\n",
       "    <tr style=\"text-align: right;\">\n",
       "      <th></th>\n",
       "      <th>RA</th>\n",
       "      <th>DEC</th>\n",
       "      <th>VMAG</th>\n",
       "      <th>BV_COLOR</th>\n",
       "      <th>PORB</th>\n",
       "      <th>FLUX_MAX</th>\n",
       "      <th>LII</th>\n",
       "      <th>BII</th>\n",
       "      <th>VMAG_MIN</th>\n",
       "      <th>UB_COLOR</th>\n",
       "    </tr>\n",
       "  </thead>\n",
       "  <tbody>\n",
       "    <tr>\n",
       "      <th>0</th>\n",
       "      <td>240.97500</td>\n",
       "      <td>-77.88500</td>\n",
       "      <td>0.00</td>\n",
       "      <td>0.00</td>\n",
       "      <td>0.0000</td>\n",
       "      <td>0.0</td>\n",
       "      <td>312.42847</td>\n",
       "      <td>-18.73093</td>\n",
       "      <td>0.0</td>\n",
       "      <td>0.0</td>\n",
       "    </tr>\n",
       "    <tr>\n",
       "      <th>1</th>\n",
       "      <td>80.11683</td>\n",
       "      <td>-71.96481</td>\n",
       "      <td>18.00</td>\n",
       "      <td>0.00</td>\n",
       "      <td>0.3400</td>\n",
       "      <td>44.0</td>\n",
       "      <td>283.09949</td>\n",
       "      <td>-32.69058</td>\n",
       "      <td>19.0</td>\n",
       "      <td>-0.8</td>\n",
       "    </tr>\n",
       "    <tr>\n",
       "      <th>2</th>\n",
       "      <td>83.17833</td>\n",
       "      <td>-69.43833</td>\n",
       "      <td>0.00</td>\n",
       "      <td>0.00</td>\n",
       "      <td>0.0000</td>\n",
       "      <td>0.0</td>\n",
       "      <td>279.93933</td>\n",
       "      <td>-32.15468</td>\n",
       "      <td>0.0</td>\n",
       "      <td>0.0</td>\n",
       "    </tr>\n",
       "    <tr>\n",
       "      <th>3</th>\n",
       "      <td>194.40500</td>\n",
       "      <td>-69.28911</td>\n",
       "      <td>19.10</td>\n",
       "      <td>0.30</td>\n",
       "      <td>0.1638</td>\n",
       "      <td>0.0</td>\n",
       "      <td>303.48189</td>\n",
       "      <td>-6.42396</td>\n",
       "      <td>0.0</td>\n",
       "      <td>0.0</td>\n",
       "    </tr>\n",
       "    <tr>\n",
       "      <th>4</th>\n",
       "      <td>171.61125</td>\n",
       "      <td>-68.67572</td>\n",
       "      <td>13.30</td>\n",
       "      <td>0.30</td>\n",
       "      <td>0.4325</td>\n",
       "      <td>0.0</td>\n",
       "      <td>295.30054</td>\n",
       "      <td>-7.07259</td>\n",
       "      <td>0.0</td>\n",
       "      <td>0.0</td>\n",
       "    </tr>\n",
       "    <tr>\n",
       "      <th>...</th>\n",
       "      <td>...</td>\n",
       "      <td>...</td>\n",
       "      <td>...</td>\n",
       "      <td>...</td>\n",
       "      <td>...</td>\n",
       "      <td>...</td>\n",
       "      <td>...</td>\n",
       "      <td>...</td>\n",
       "      <td>...</td>\n",
       "      <td>...</td>\n",
       "    </tr>\n",
       "    <tr>\n",
       "      <th>145</th>\n",
       "      <td>267.30292</td>\n",
       "      <td>-26.64333</td>\n",
       "      <td>0.00</td>\n",
       "      <td>0.00</td>\n",
       "      <td>29.8000</td>\n",
       "      <td>999999.0</td>\n",
       "      <td>2.37283</td>\n",
       "      <td>0.50774</td>\n",
       "      <td>0.0</td>\n",
       "      <td>0.0</td>\n",
       "    </tr>\n",
       "    <tr>\n",
       "      <th>146</th>\n",
       "      <td>268.60533</td>\n",
       "      <td>-26.33128</td>\n",
       "      <td>12.65</td>\n",
       "      <td>1.79</td>\n",
       "      <td>0.0000</td>\n",
       "      <td>999999.0</td>\n",
       "      <td>3.23599</td>\n",
       "      <td>-0.33559</td>\n",
       "      <td>0.0</td>\n",
       "      <td>0.0</td>\n",
       "    </tr>\n",
       "    <tr>\n",
       "      <th>147</th>\n",
       "      <td>112.22333</td>\n",
       "      <td>-26.10806</td>\n",
       "      <td>11.60</td>\n",
       "      <td>0.30</td>\n",
       "      <td>34.5000</td>\n",
       "      <td>999999.0</td>\n",
       "      <td>240.28165</td>\n",
       "      <td>-4.05037</td>\n",
       "      <td>0.0</td>\n",
       "      <td>-0.6</td>\n",
       "    </tr>\n",
       "    <tr>\n",
       "      <th>148</th>\n",
       "      <td>274.83950</td>\n",
       "      <td>-25.42667</td>\n",
       "      <td>8.80</td>\n",
       "      <td>-0.20</td>\n",
       "      <td>2.8000</td>\n",
       "      <td>999999.0</td>\n",
       "      <td>6.75638</td>\n",
       "      <td>-4.79765</td>\n",
       "      <td>13.5</td>\n",
       "      <td>1.8</td>\n",
       "    </tr>\n",
       "    <tr>\n",
       "      <th>149</th>\n",
       "      <td>270.66625</td>\n",
       "      <td>-20.28708</td>\n",
       "      <td>0.00</td>\n",
       "      <td>0.00</td>\n",
       "      <td>4.6000</td>\n",
       "      <td>999999.0</td>\n",
       "      <td>9.41747</td>\n",
       "      <td>1.04356</td>\n",
       "      <td>0.0</td>\n",
       "      <td>0.0</td>\n",
       "    </tr>\n",
       "  </tbody>\n",
       "</table>\n",
       "<p>150 rows × 10 columns</p>\n",
       "</div>"
      ],
      "text/plain": [
       "            RA       DEC   VMAG  BV_COLOR     PORB  FLUX_MAX        LII  \\\n",
       "0    240.97500 -77.88500   0.00      0.00   0.0000       0.0  312.42847   \n",
       "1     80.11683 -71.96481  18.00      0.00   0.3400      44.0  283.09949   \n",
       "2     83.17833 -69.43833   0.00      0.00   0.0000       0.0  279.93933   \n",
       "3    194.40500 -69.28911  19.10      0.30   0.1638       0.0  303.48189   \n",
       "4    171.61125 -68.67572  13.30      0.30   0.4325       0.0  295.30054   \n",
       "..         ...       ...    ...       ...      ...       ...        ...   \n",
       "145  267.30292 -26.64333   0.00      0.00  29.8000  999999.0    2.37283   \n",
       "146  268.60533 -26.33128  12.65      1.79   0.0000  999999.0    3.23599   \n",
       "147  112.22333 -26.10806  11.60      0.30  34.5000  999999.0  240.28165   \n",
       "148  274.83950 -25.42667   8.80     -0.20   2.8000  999999.0    6.75638   \n",
       "149  270.66625 -20.28708   0.00      0.00   4.6000  999999.0    9.41747   \n",
       "\n",
       "          BII  VMAG_MIN  UB_COLOR  \n",
       "0   -18.73093       0.0       0.0  \n",
       "1   -32.69058      19.0      -0.8  \n",
       "2   -32.15468       0.0       0.0  \n",
       "3    -6.42396       0.0       0.0  \n",
       "4    -7.07259       0.0       0.0  \n",
       "..        ...       ...       ...  \n",
       "145   0.50774       0.0       0.0  \n",
       "146  -0.33559       0.0       0.0  \n",
       "147  -4.05037       0.0      -0.6  \n",
       "148  -4.79765      13.5       1.8  \n",
       "149   1.04356       0.0       0.0  \n",
       "\n",
       "[150 rows x 10 columns]"
      ]
     },
     "execution_count": 66,
     "metadata": {},
     "output_type": "execute_result"
    }
   ],
   "source": [
    "target_column = 'target'\n",
    "y = df['target']\n",
    "X = df.drop(['NAME', 'target', 'FX', 'FX_MAX', 'PULSE_PER', 'FLUX', 'PULSE_PERIOD'], axis=1)\n",
    "X"
   ]
  },
  {
   "cell_type": "code",
   "execution_count": 67,
   "id": "347a37be-1022-4d38-be39-935207da954c",
   "metadata": {
    "tags": []
   },
   "outputs": [],
   "source": [
    "X = X.dropna(axis=0)\n",
    "idxs = X.index\n",
    "y = y.iloc[idxs]"
   ]
  },
  {
   "cell_type": "code",
   "execution_count": 68,
   "id": "d2ca3bf4-3952-41e8-83b8-2651d504e109",
   "metadata": {
    "tags": []
   },
   "outputs": [
    {
     "name": "stdout",
     "output_type": "stream",
     "text": [
      "KNN score: 1.0\n",
      "\n",
      "Cross-validation scores (3-fold): [1. 1. 1. 1. 1.]\n",
      "Mean cross-validation score (3-fold): 1.000\n"
     ]
    }
   ],
   "source": [
    "X_train, X_test, y_train, y_test = train_test_split(X, y,random_state=0)\n",
    "knn = KNeighborsClassifier(n_neighbors = 4) #choose classifier\n",
    "KNN_fit = knn.fit(X_train, y_train)#train classifier\n",
    "accuracy = KNN_fit.score(X_test, y_test) #Estimate the accuracy of the classifier on future data\n",
    "print ('KNN score: {}\\n'.format(accuracy))\n",
    "cv_scores = cross_val_score(knn, X, y)\n",
    "print('Cross-validation scores (3-fold):', cv_scores)\n",
    "print('Mean cross-validation score (3-fold): {:.3f}'.format(np.mean(cv_scores)))"
   ]
  },
  {
   "cell_type": "code",
   "execution_count": 69,
   "id": "bb1f9424-f091-4ae9-a403-75af40bb5a3c",
   "metadata": {
    "tags": []
   },
   "outputs": [],
   "source": [
    "preds = KNN_fit.predict(X_test)"
   ]
  },
  {
   "cell_type": "code",
   "execution_count": 70,
   "id": "c8f77c88-cd45-4890-bcc3-a6fd1cf5eec7",
   "metadata": {
    "tags": []
   },
   "outputs": [
    {
     "data": {
      "text/plain": [
       "((38,), (38,))"
      ]
     },
     "execution_count": 70,
     "metadata": {},
     "output_type": "execute_result"
    }
   ],
   "source": [
    "y_test.shape, preds.shape"
   ]
  },
  {
   "cell_type": "code",
   "execution_count": 71,
   "id": "4fb0816f-47b1-4be2-8c9d-96a985e9fcf5",
   "metadata": {
    "tags": []
   },
   "outputs": [
    {
     "data": {
      "text/plain": [
       "array([[27,  0],\n",
       "       [ 0, 11]])"
      ]
     },
     "execution_count": 71,
     "metadata": {},
     "output_type": "execute_result"
    }
   ],
   "source": [
    "cm = confusion_matrix(y_test, preds)\n",
    "cm"
   ]
  },
  {
   "cell_type": "code",
   "execution_count": 76,
   "id": "e788e368-2613-448e-96ee-0056809e74bb",
   "metadata": {
    "tags": []
   },
   "outputs": [
    {
     "data": {
      "text/plain": [
       "(2, 2)"
      ]
     },
     "execution_count": 76,
     "metadata": {},
     "output_type": "execute_result"
    }
   ],
   "source": [
    "cm.shape"
   ]
  },
  {
   "cell_type": "code",
   "execution_count": 80,
   "id": "5130c10e-41ea-4c47-b4a6-177951b1aa2e",
   "metadata": {
    "tags": []
   },
   "outputs": [
    {
     "data": {
      "text/plain": [
       "<AxesSubplot:>"
      ]
     },
     "execution_count": 80,
     "metadata": {},
     "output_type": "execute_result"
    },
    {
     "data": {
      "image/png": "[encoded data removed]",
      "text/plain": [
       "<Figure size 640x480 with 2 Axes>"
      ]
     },
     "metadata": {},
     "output_type": "display_data"
    }
   ],
   "source": [
    "import seaborn as sns\n",
    "sns.heatmap(cm, annot=True, cmap='viridis')"
   ]
  },
  {
   "cell_type": "code",
   "execution_count": 74,
   "id": "ccc19ce6-30b3-44b5-ad31-c8b846641278",
   "metadata": {
    "tags": []
   },
   "outputs": [
    {
     "name": "stdout",
     "output_type": "stream",
     "text": [
      "Defaulting to user installation because normal site-packages is not writeable\n",
      "Collecting seaborn\n",
      "  Downloading seaborn-0.13.2-py3-none-any.whl.metadata (5.4 kB)\n",
      "Requirement already satisfied: numpy!=1.24.0,>=1.20 in /opt/miniconda/lib/python3.11/site-packages (from seaborn) (1.26.4)\n",
      "Requirement already satisfied: pandas>=1.2 in /opt/miniconda/lib/python3.11/site-packages (from seaborn) (1.4.0)\n",
      "Requirement already satisfied: matplotlib!=3.6.1,>=3.4 in /opt/miniconda/lib/python3.11/site-packages (from seaborn) (3.5.1)\n",
      "Requirement already satisfied: cycler>=0.10 in /opt/miniconda/lib/python3.11/site-packages (from matplotlib!=3.6.1,>=3.4->seaborn) (0.12.1)\n",
      "Requirement already satisfied: fonttools>=4.22.0 in /opt/miniconda/lib/python3.11/site-packages (from matplotlib!=3.6.1,>=3.4->seaborn) (4.49.0)\n",
      "Requirement already satisfied: kiwisolver>=1.0.1 in /opt/miniconda/lib/python3.11/site-packages (from matplotlib!=3.6.1,>=3.4->seaborn) (1.4.5)\n",
      "Requirement already satisfied: packaging>=20.0 in /opt/miniconda/lib/python3.11/site-packages (from matplotlib!=3.6.1,>=3.4->seaborn) (23.1)\n",
      "Requirement already satisfied: pillow>=6.2.0 in /opt/miniconda/lib/python3.11/site-packages (from matplotlib!=3.6.1,>=3.4->seaborn) (10.2.0)\n",
      "Requirement already satisfied: pyparsing>=2.2.1 in /opt/miniconda/lib/python3.11/site-packages (from matplotlib!=3.6.1,>=3.4->seaborn) (3.1.1)\n",
      "Requirement already satisfied: python-dateutil>=2.7 in /opt/miniconda/lib/python3.11/site-packages (from matplotlib!=3.6.1,>=3.4->seaborn) (2.8.2)\n",
      "Requirement already satisfied: pytz>=2020.1 in /opt/miniconda/lib/python3.11/site-packages (from pandas>=1.2->seaborn) (2024.1)\n",
      "Requirement already satisfied: six>=1.5 in /opt/miniconda/lib/python3.11/site-packages (from python-dateutil>=2.7->matplotlib!=3.6.1,>=3.4->seaborn) (1.16.0)\n",
      "Downloading seaborn-0.13.2-py3-none-any.whl (294 kB)\n",
      "\u001b[2K   \u001b[90m━━━━━━━━━━━━━━━━━━━━━━━━━━━━━━━━━━━━━━━━\u001b[0m \u001b[32m294.9/294.9 kB\u001b[0m \u001b[31m2.5 MB/s\u001b[0m eta \u001b[36m0:00:00\u001b[0ma \u001b[36m0:00:01\u001b[0m\n",
      "\u001b[?25hInstalling collected packages: seaborn\n",
      "Successfully installed seaborn-0.13.2\n",
      "Note: you may need to restart the kernel to use updated packages.\n"
     ]
    }
   ],
   "source": [
    "%pip install seaborn"
   ]
  },
  {
   "cell_type": "code",
   "execution_count": null,
   "id": "07353177-f90a-4263-a743-0bbdd1e92ae4",
   "metadata": {},
   "outputs": [],
   "source": []
  }
 ],
 "metadata": {
  "kernelspec": {
   "display_name": "Python 3 (ipykernel)",
   "language": "python",
   "name": "python3"
  },
  "language_info": {
   "codemirror_mode": {
    "name": "ipython",
    "version": 3
   },
   "file_extension": ".py",
   "mimetype": "text/x-python",
   "name": "python",
   "nbconvert_exporter": "python",
   "pygments_lexer": "ipython3",
   "version": "3.11.5"
  }
 },
 "nbformat": 4,
 "nbformat_minor": 5
}
