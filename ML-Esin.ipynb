{
 "cells": [
  {
   "cell_type": "code",
   "execution_count": 1,
   "id": "c3ab050c-761a-42f6-a821-892ba5d63a74",
   "metadata": {
    "tags": []
   },
   "outputs": [],
   "source": [
    "import numpy as np\n",
    "from astropy.io import fits\n",
    "from matplotlib import pyplot as plt\n",
    "from sklearn.neighbors import KNeighborsRegressor\n",
    "from sklearn.metrics import classification_report\n",
    "from sklearn.neighbors import KNeighborsClassifier\n",
    "import os\n",
    "import pandas as pd\n",
    "from sklearn.svm import SVC\n",
    "from sklearn.model_selection import train_test_split\n",
    "from sklearn.tree import DecisionTreeRegressor\n",
    "from sklearn.tree import DecisionTreeClassifier\n",
    "from sklearn.model_selection import cross_val_score\n",
    "from sklearn.metrics import confusion_matrix\n",
    "from sklearn.metrics import accuracy_score, precision_score, recall_score, f1_score"
   ]
  },
  {
   "cell_type": "code",
   "execution_count": 2,
   "id": "f67b4648-4f6b-4f63-97b1-a73c98b22cac",
   "metadata": {
    "tags": []
   },
   "outputs": [],
   "source": [
    "home = os.path.expanduser('~')\n",
    "workdir = home + \"/XBinary-Classifier\""
   ]
  },
  {
   "cell_type": "code",
   "execution_count": 3,
   "id": "3dcb956b-f36b-48f8-b194-ec4925b2e022",
   "metadata": {
    "tags": []
   },
   "outputs": [
    {
     "name": "stdout",
     "output_type": "stream",
     "text": [
      "Index(['NAME', 'RA', 'DEC', 'VMAG', 'BV_COLOR', 'PORB', 'FLUX', 'FLUX_MAX',\n",
      "       'LII', 'BII', 'VMAG_MIN', 'UB_COLOR', 'PULSE_PERIOD', 'target'],\n",
      "      dtype='object')\n"
     ]
    }
   ],
   "source": [
    "# read the file\n",
    "filepath = workdir + '/alldata.fits'\n",
    "with fits.open(filepath) as data:\n",
    "    df = pd.DataFrame(data[1].data)\n",
    "    print(df.columns)"
   ]
  },
  {
   "cell_type": "code",
   "execution_count": 4,
   "id": "3b3427df-7a8d-4bba-99f4-229668dd0d8d",
   "metadata": {
    "tags": []
   },
   "outputs": [
    {
     "data": {
      "text/html": [
       "<div>\n",
       "<style scoped>\n",
       "    .dataframe tbody tr th:only-of-type {\n",
       "        vertical-align: middle;\n",
       "    }\n",
       "\n",
       "    .dataframe tbody tr th {\n",
       "        vertical-align: top;\n",
       "    }\n",
       "\n",
       "    .dataframe thead th {\n",
       "        text-align: right;\n",
       "    }\n",
       "</style>\n",
       "<table border=\"1\" class=\"dataframe\">\n",
       "  <thead>\n",
       "    <tr style=\"text-align: right;\">\n",
       "      <th></th>\n",
       "      <th>NAME</th>\n",
       "      <th>RA</th>\n",
       "      <th>DEC</th>\n",
       "      <th>VMAG</th>\n",
       "      <th>BV_COLOR</th>\n",
       "      <th>PORB</th>\n",
       "      <th>FLUX</th>\n",
       "      <th>FLUX_MAX</th>\n",
       "      <th>LII</th>\n",
       "      <th>BII</th>\n",
       "      <th>VMAG_MIN</th>\n",
       "      <th>UB_COLOR</th>\n",
       "      <th>PULSE_PERIOD</th>\n",
       "      <th>target</th>\n",
       "    </tr>\n",
       "  </thead>\n",
       "  <tbody>\n",
       "    <tr>\n",
       "      <th>0</th>\n",
       "      <td>SAX J1603.9-7753</td>\n",
       "      <td>240.97500</td>\n",
       "      <td>-77.88500</td>\n",
       "      <td>0.00</td>\n",
       "      <td>0.00</td>\n",
       "      <td>0.0000</td>\n",
       "      <td>160.0</td>\n",
       "      <td>0.0</td>\n",
       "      <td>312.42847</td>\n",
       "      <td>-18.73093</td>\n",
       "      <td>0.0</td>\n",
       "      <td>0.0</td>\n",
       "      <td>0.00</td>\n",
       "      <td>0</td>\n",
       "    </tr>\n",
       "    <tr>\n",
       "      <th>1</th>\n",
       "      <td>2A 0521-720</td>\n",
       "      <td>80.11683</td>\n",
       "      <td>-71.96481</td>\n",
       "      <td>18.00</td>\n",
       "      <td>0.00</td>\n",
       "      <td>0.3400</td>\n",
       "      <td>9.0</td>\n",
       "      <td>44.0</td>\n",
       "      <td>283.09949</td>\n",
       "      <td>-32.69058</td>\n",
       "      <td>19.0</td>\n",
       "      <td>-0.8</td>\n",
       "      <td>0.00</td>\n",
       "      <td>0</td>\n",
       "    </tr>\n",
       "    <tr>\n",
       "      <th>2</th>\n",
       "      <td>RX J0532.7-6926</td>\n",
       "      <td>83.17833</td>\n",
       "      <td>-69.43833</td>\n",
       "      <td>0.00</td>\n",
       "      <td>0.00</td>\n",
       "      <td>0.0000</td>\n",
       "      <td>0.5</td>\n",
       "      <td>0.0</td>\n",
       "      <td>279.93933</td>\n",
       "      <td>-32.15468</td>\n",
       "      <td>0.0</td>\n",
       "      <td>0.0</td>\n",
       "      <td>0.00</td>\n",
       "      <td>0</td>\n",
       "    </tr>\n",
       "    <tr>\n",
       "      <th>3</th>\n",
       "      <td>4U 1254-69</td>\n",
       "      <td>194.40500</td>\n",
       "      <td>-69.28911</td>\n",
       "      <td>19.10</td>\n",
       "      <td>0.30</td>\n",
       "      <td>0.1638</td>\n",
       "      <td>25.0</td>\n",
       "      <td>0.0</td>\n",
       "      <td>303.48189</td>\n",
       "      <td>-6.42396</td>\n",
       "      <td>0.0</td>\n",
       "      <td>0.0</td>\n",
       "      <td>0.00</td>\n",
       "      <td>0</td>\n",
       "    </tr>\n",
       "    <tr>\n",
       "      <th>4</th>\n",
       "      <td>GS 1124-684</td>\n",
       "      <td>171.61125</td>\n",
       "      <td>-68.67572</td>\n",
       "      <td>13.30</td>\n",
       "      <td>0.30</td>\n",
       "      <td>0.4325</td>\n",
       "      <td>3000.0</td>\n",
       "      <td>0.0</td>\n",
       "      <td>295.30054</td>\n",
       "      <td>-7.07259</td>\n",
       "      <td>0.0</td>\n",
       "      <td>0.0</td>\n",
       "      <td>0.00</td>\n",
       "      <td>0</td>\n",
       "    </tr>\n",
       "    <tr>\n",
       "      <th>...</th>\n",
       "      <td>...</td>\n",
       "      <td>...</td>\n",
       "      <td>...</td>\n",
       "      <td>...</td>\n",
       "      <td>...</td>\n",
       "      <td>...</td>\n",
       "      <td>...</td>\n",
       "      <td>...</td>\n",
       "      <td>...</td>\n",
       "      <td>...</td>\n",
       "      <td>...</td>\n",
       "      <td>...</td>\n",
       "      <td>...</td>\n",
       "      <td>...</td>\n",
       "    </tr>\n",
       "    <tr>\n",
       "      <th>296</th>\n",
       "      <td>IGR J00370+6122</td>\n",
       "      <td>9.29167</td>\n",
       "      <td>61.35972</td>\n",
       "      <td>9.65</td>\n",
       "      <td>0.56</td>\n",
       "      <td>15.6650</td>\n",
       "      <td>8.0</td>\n",
       "      <td>0.0</td>\n",
       "      <td>121.22213</td>\n",
       "      <td>-1.46464</td>\n",
       "      <td>0.0</td>\n",
       "      <td>0.0</td>\n",
       "      <td>0.00</td>\n",
       "      <td>1</td>\n",
       "    </tr>\n",
       "    <tr>\n",
       "      <th>297</th>\n",
       "      <td>4U 0115+634</td>\n",
       "      <td>19.63292</td>\n",
       "      <td>63.74000</td>\n",
       "      <td>14.50</td>\n",
       "      <td>1.40</td>\n",
       "      <td>24.3000</td>\n",
       "      <td>2.0</td>\n",
       "      <td>350.0</td>\n",
       "      <td>125.92366</td>\n",
       "      <td>1.02574</td>\n",
       "      <td>16.3</td>\n",
       "      <td>0.3</td>\n",
       "      <td>3.61</td>\n",
       "      <td>1</td>\n",
       "    </tr>\n",
       "    <tr>\n",
       "      <th>298</th>\n",
       "      <td>2S 0114+650</td>\n",
       "      <td>19.51125</td>\n",
       "      <td>65.29167</td>\n",
       "      <td>11.00</td>\n",
       "      <td>1.20</td>\n",
       "      <td>11.6000</td>\n",
       "      <td>4.0</td>\n",
       "      <td>0.0</td>\n",
       "      <td>125.70998</td>\n",
       "      <td>2.56353</td>\n",
       "      <td>0.0</td>\n",
       "      <td>0.1</td>\n",
       "      <td>10008.00</td>\n",
       "      <td>1</td>\n",
       "    </tr>\n",
       "    <tr>\n",
       "      <th>299</th>\n",
       "      <td>IGR J01363+6610</td>\n",
       "      <td>23.95833</td>\n",
       "      <td>66.21111</td>\n",
       "      <td>13.29</td>\n",
       "      <td>1.39</td>\n",
       "      <td>0.0000</td>\n",
       "      <td>9.0</td>\n",
       "      <td>0.0</td>\n",
       "      <td>127.39482</td>\n",
       "      <td>3.72480</td>\n",
       "      <td>0.0</td>\n",
       "      <td>0.0</td>\n",
       "      <td>0.00</td>\n",
       "      <td>1</td>\n",
       "    </tr>\n",
       "    <tr>\n",
       "      <th>300</th>\n",
       "      <td>IGR J01583+6713</td>\n",
       "      <td>29.57683</td>\n",
       "      <td>67.22319</td>\n",
       "      <td>0.00</td>\n",
       "      <td>0.00</td>\n",
       "      <td>0.0000</td>\n",
       "      <td>14.0</td>\n",
       "      <td>0.0</td>\n",
       "      <td>129.35216</td>\n",
       "      <td>5.18871</td>\n",
       "      <td>0.0</td>\n",
       "      <td>0.0</td>\n",
       "      <td>0.00</td>\n",
       "      <td>1</td>\n",
       "    </tr>\n",
       "  </tbody>\n",
       "</table>\n",
       "<p>301 rows × 14 columns</p>\n",
       "</div>"
      ],
      "text/plain": [
       "                 NAME         RA       DEC   VMAG  BV_COLOR     PORB    FLUX  \\\n",
       "0    SAX J1603.9-7753  240.97500 -77.88500   0.00      0.00   0.0000   160.0   \n",
       "1         2A 0521-720   80.11683 -71.96481  18.00      0.00   0.3400     9.0   \n",
       "2     RX J0532.7-6926   83.17833 -69.43833   0.00      0.00   0.0000     0.5   \n",
       "3          4U 1254-69  194.40500 -69.28911  19.10      0.30   0.1638    25.0   \n",
       "4         GS 1124-684  171.61125 -68.67572  13.30      0.30   0.4325  3000.0   \n",
       "..                ...        ...       ...    ...       ...      ...     ...   \n",
       "296   IGR J00370+6122    9.29167  61.35972   9.65      0.56  15.6650     8.0   \n",
       "297       4U 0115+634   19.63292  63.74000  14.50      1.40  24.3000     2.0   \n",
       "298       2S 0114+650   19.51125  65.29167  11.00      1.20  11.6000     4.0   \n",
       "299   IGR J01363+6610   23.95833  66.21111  13.29      1.39   0.0000     9.0   \n",
       "300   IGR J01583+6713   29.57683  67.22319   0.00      0.00   0.0000    14.0   \n",
       "\n",
       "     FLUX_MAX        LII       BII  VMAG_MIN  UB_COLOR  PULSE_PERIOD  target  \n",
       "0         0.0  312.42847 -18.73093       0.0       0.0          0.00       0  \n",
       "1        44.0  283.09949 -32.69058      19.0      -0.8          0.00       0  \n",
       "2         0.0  279.93933 -32.15468       0.0       0.0          0.00       0  \n",
       "3         0.0  303.48189  -6.42396       0.0       0.0          0.00       0  \n",
       "4         0.0  295.30054  -7.07259       0.0       0.0          0.00       0  \n",
       "..        ...        ...       ...       ...       ...           ...     ...  \n",
       "296       0.0  121.22213  -1.46464       0.0       0.0          0.00       1  \n",
       "297     350.0  125.92366   1.02574      16.3       0.3          3.61       1  \n",
       "298       0.0  125.70998   2.56353       0.0       0.1      10008.00       1  \n",
       "299       0.0  127.39482   3.72480       0.0       0.0          0.00       1  \n",
       "300       0.0  129.35216   5.18871       0.0       0.0          0.00       1  \n",
       "\n",
       "[301 rows x 14 columns]"
      ]
     },
     "execution_count": 4,
     "metadata": {},
     "output_type": "execute_result"
    }
   ],
   "source": [
    "df"
   ]
  },
  {
   "cell_type": "code",
   "execution_count": 5,
   "id": "34fbbdd1-311e-4bae-8fd2-a64423e0ff5c",
   "metadata": {
    "tags": []
   },
   "outputs": [
    {
     "name": "stdout",
     "output_type": "stream",
     "text": [
      "<class 'pandas.core.frame.DataFrame'>\n",
      "RangeIndex: 301 entries, 0 to 300\n",
      "Data columns (total 14 columns):\n",
      " #   Column        Non-Null Count  Dtype \n",
      "---  ------        --------------  ----- \n",
      " 0   NAME          301 non-null    object\n",
      " 1   RA            301 non-null    >f8   \n",
      " 2   DEC           301 non-null    >f8   \n",
      " 3   VMAG          301 non-null    >f8   \n",
      " 4   BV_COLOR      301 non-null    >f8   \n",
      " 5   PORB          301 non-null    >f8   \n",
      " 6   FLUX          301 non-null    >f8   \n",
      " 7   FLUX_MAX      301 non-null    >f8   \n",
      " 8   LII           301 non-null    >f8   \n",
      " 9   BII           301 non-null    >f8   \n",
      " 10  VMAG_MIN      301 non-null    >f8   \n",
      " 11  UB_COLOR      301 non-null    >f8   \n",
      " 12  PULSE_PERIOD  301 non-null    >f8   \n",
      " 13  target        301 non-null    int8  \n",
      "dtypes: float64(12), int8(1), object(1)\n",
      "memory usage: 31.0+ KB\n"
     ]
    }
   ],
   "source": [
    "df['target'] = df['target'].astype(np.int8)\n",
    "#df['FLUX_MAX'] = df['FLUX_MAX'].astype(np.float64)\n",
    "df.info()"
   ]
  },
  {
   "cell_type": "code",
   "execution_count": 6,
   "id": "a62295e8-234c-4c19-aee8-7b16f7a591c1",
   "metadata": {
    "tags": []
   },
   "outputs": [],
   "source": [
    "for column in df.columns:\n",
    "    if df[column].dtype.byteorder == '>':  # Big-endian\n",
    "        df[column] = df[column].values.byteswap().newbyteorder()"
   ]
  },
  {
   "cell_type": "code",
   "execution_count": 7,
   "id": "f0d4cc0b-5240-4e71-a26b-a6045a292566",
   "metadata": {
    "tags": []
   },
   "outputs": [],
   "source": [
    "target_column = 'target'\n",
    "y = df['target']\n",
    "feature_columns = ['RA', 'DEC', 'VMAG', 'BV_COLOR', 'PORB', 'FLUX', 'FLUX_MAX', 'LII', 'BII', 'VMAG_MIN', 'UB_COLOR', 'PULSE_PERIOD']\n",
    "X = df[feature_columns]"
   ]
  },
  {
   "cell_type": "code",
   "execution_count": 8,
   "id": "d2ca3bf4-3952-41e8-83b8-2651d504e109",
   "metadata": {
    "tags": []
   },
   "outputs": [
    {
     "name": "stdout",
     "output_type": "stream",
     "text": [
      "KNN score: 0.7236842105263158\n",
      "\n",
      "Cross-validation scores (3-fold): [0.72131148 0.75       0.73333333 0.76666667 0.6       ]\n",
      "Mean cross-validation score (3-fold): 0.714\n"
     ]
    }
   ],
   "source": [
    "X_train, X_test, y_train, y_test = train_test_split(X, y,random_state=0)\n",
    "\n",
    "knn = KNeighborsClassifier(n_neighbors = 4) #choose classifier\n",
    "KNN_fit = knn.fit(X_train, y_train)#train classifier\n",
    "accuracy = KNN_fit.score(X_test, y_test) #Estimate the accuracy of the classifier on future data\n",
    "print ('KNN score: {}\\n'.format(accuracy))\n",
    "cv_scores = cross_val_score(knn, X, y)\n",
    "print('Cross-validation scores (3-fold):', cv_scores)\n",
    "print('Mean cross-validation score (3-fold): {:.3f}'.format(np.mean(cv_scores)))"
   ]
  },
  {
   "cell_type": "code",
   "execution_count": 9,
   "id": "bb1f9424-f091-4ae9-a403-75af40bb5a3c",
   "metadata": {
    "tags": []
   },
   "outputs": [],
   "source": [
    "preds = KNN_fit.predict(X_test)"
   ]
  },
  {
   "cell_type": "code",
   "execution_count": 10,
   "id": "c8f77c88-cd45-4890-bcc3-a6fd1cf5eec7",
   "metadata": {
    "tags": []
   },
   "outputs": [
    {
     "data": {
      "text/plain": [
       "((76,), (76,))"
      ]
     },
     "execution_count": 10,
     "metadata": {},
     "output_type": "execute_result"
    }
   ],
   "source": [
    "y_test.shape, preds.shape"
   ]
  },
  {
   "cell_type": "code",
   "execution_count": 11,
   "id": "4fb0816f-47b1-4be2-8c9d-96a985e9fcf5",
   "metadata": {
    "tags": []
   },
   "outputs": [
    {
     "data": {
      "text/plain": [
       "array([[41, 11],\n",
       "       [10, 14]])"
      ]
     },
     "execution_count": 11,
     "metadata": {},
     "output_type": "execute_result"
    }
   ],
   "source": [
    "cm = confusion_matrix(y_test, preds)\n",
    "cm"
   ]
  },
  {
   "cell_type": "code",
   "execution_count": 12,
   "id": "e788e368-2613-448e-96ee-0056809e74bb",
   "metadata": {
    "tags": []
   },
   "outputs": [
    {
     "data": {
      "text/plain": [
       "(2, 2)"
      ]
     },
     "execution_count": 12,
     "metadata": {},
     "output_type": "execute_result"
    }
   ],
   "source": [
    "cm.shape"
   ]
  },
  {
   "cell_type": "code",
   "execution_count": 13,
   "id": "5130c10e-41ea-4c47-b4a6-177951b1aa2e",
   "metadata": {
    "tags": []
   },
   "outputs": [
    {
     "data": {
      "text/plain": [
       "<AxesSubplot:>"
      ]
     },
     "execution_count": 13,
     "metadata": {},
     "output_type": "execute_result"
    },
    {
     "data": {
      "image/png": "[encoded data removed]",
      "text/plain": [
       "<Figure size 640x480 with 2 Axes>"
      ]
     },
     "metadata": {},
     "output_type": "display_data"
    }
   ],
   "source": [
    "import seaborn as sns\n",
    "sns.heatmap(cm, annot=True, cmap='viridis')"
   ]
  },
  {
   "cell_type": "code",
   "execution_count": null,
   "id": "07353177-f90a-4263-a743-0bbdd1e92ae4",
   "metadata": {},
   "outputs": [],
   "source": []
  }
 ],
 "metadata": {
  "kernelspec": {
   "display_name": "Python 3 (ipykernel)",
   "language": "python",
   "name": "python3"
  },
  "language_info": {
   "codemirror_mode": {
    "name": "ipython",
    "version": 3
   },
   "file_extension": ".py",
   "mimetype": "text/x-python",
   "name": "python",
   "nbconvert_exporter": "python",
   "pygments_lexer": "ipython3",
   "version": "3.11.5"
  }
 },
 "nbformat": 4,
 "nbformat_minor": 5
}
