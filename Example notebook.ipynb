{
 "cells": [
  {
   "cell_type": "markdown",
   "id": "0d3de6cc-d0fb-4fc0-940c-e397daa52156",
   "metadata": {},
   "source": [
    "# XBinary-Classifier\n",
    "\n",
    "Here you can test our package using the example data set we have provided you with.\n",
    "To start with make sure you have `pip install`-ed it and then start by importing it:"
   ]
  },
  {
   "cell_type": "code",
   "execution_count": 1,
   "id": "4e36efb1-ef1e-4f3d-a2fc-09555c8595d1",
   "metadata": {
    "tags": []
   },
   "outputs": [],
   "source": [
    "import xbinary_classifier"
   ]
  },
  {
   "cell_type": "markdown",
   "id": "8cfd0fb2-9c92-4ba6-a4d5-6d7b9001790b",
   "metadata": {},
   "source": [
    "Next import the nesecary packages you might need to look at the data file:"
   ]
  },
  {
   "cell_type": "code",
   "execution_count": 2,
   "id": "383024ba-0983-4666-8190-2e4d2b12d929",
   "metadata": {
    "tags": []
   },
   "outputs": [],
   "source": [
    "from astropy.io import fits\n",
    "from astropy.table import Table, vstack\n",
    "import os\n",
    "import pandas as pd\n",
    "import numpy as np"
   ]
  },
  {
   "cell_type": "code",
   "execution_count": 3,
   "id": "22478dc7-5d58-4487-908e-aaab3eecb13f",
   "metadata": {
    "tags": []
   },
   "outputs": [],
   "source": [
    "home = os.path.expanduser('~')\n",
    "sourcefile = home # + \"/your-path-to-exampledataset.fits\""
   ]
  },
  {
   "cell_type": "markdown",
   "id": "ec86f25c-29a1-4e66-a18b-31dd59f4d112",
   "metadata": {},
   "source": [
    "Now lets open the data file:"
   ]
  },
  {
   "cell_type": "code",
   "execution_count": 7,
   "id": "3c3cd8c9-845d-408a-b324-dc403ed6f8a1",
   "metadata": {
    "tags": []
   },
   "outputs": [
    {
     "data": {
      "text/html": [
       "<div>\n",
       "<style scoped>\n",
       "    .dataframe tbody tr th:only-of-type {\n",
       "        vertical-align: middle;\n",
       "    }\n",
       "\n",
       "    .dataframe tbody tr th {\n",
       "        vertical-align: top;\n",
       "    }\n",
       "\n",
       "    .dataframe thead th {\n",
       "        text-align: right;\n",
       "    }\n",
       "</style>\n",
       "<table border=\"1\" class=\"dataframe\">\n",
       "  <thead>\n",
       "    <tr style=\"text-align: right;\">\n",
       "      <th></th>\n",
       "      <th>NAME</th>\n",
       "      <th>RA</th>\n",
       "      <th>DEC</th>\n",
       "      <th>VMAG</th>\n",
       "      <th>BV_COLOR</th>\n",
       "      <th>PORB</th>\n",
       "      <th>FLUX</th>\n",
       "      <th>FLUX_MAX</th>\n",
       "      <th>LII</th>\n",
       "      <th>BII</th>\n",
       "      <th>VMAG_MIN</th>\n",
       "      <th>UB_COLOR</th>\n",
       "      <th>PULSE_PERIOD</th>\n",
       "      <th>target</th>\n",
       "    </tr>\n",
       "  </thead>\n",
       "  <tbody>\n",
       "    <tr>\n",
       "      <th>0</th>\n",
       "      <td>SAX J1603.9-7753</td>\n",
       "      <td>240.97500</td>\n",
       "      <td>-77.88500</td>\n",
       "      <td>0.00</td>\n",
       "      <td>0.00</td>\n",
       "      <td>0.0000</td>\n",
       "      <td>160.0</td>\n",
       "      <td>0.0</td>\n",
       "      <td>312.42847</td>\n",
       "      <td>-18.73093</td>\n",
       "      <td>0.0</td>\n",
       "      <td>0.0</td>\n",
       "      <td>0.00</td>\n",
       "      <td>0</td>\n",
       "    </tr>\n",
       "    <tr>\n",
       "      <th>1</th>\n",
       "      <td>2A 0521-720</td>\n",
       "      <td>80.11683</td>\n",
       "      <td>-71.96481</td>\n",
       "      <td>18.00</td>\n",
       "      <td>0.00</td>\n",
       "      <td>0.3400</td>\n",
       "      <td>9.0</td>\n",
       "      <td>44.0</td>\n",
       "      <td>283.09949</td>\n",
       "      <td>-32.69058</td>\n",
       "      <td>19.0</td>\n",
       "      <td>-0.8</td>\n",
       "      <td>0.00</td>\n",
       "      <td>0</td>\n",
       "    </tr>\n",
       "    <tr>\n",
       "      <th>2</th>\n",
       "      <td>RX J0532.7-6926</td>\n",
       "      <td>83.17833</td>\n",
       "      <td>-69.43833</td>\n",
       "      <td>0.00</td>\n",
       "      <td>0.00</td>\n",
       "      <td>0.0000</td>\n",
       "      <td>0.5</td>\n",
       "      <td>0.0</td>\n",
       "      <td>279.93933</td>\n",
       "      <td>-32.15468</td>\n",
       "      <td>0.0</td>\n",
       "      <td>0.0</td>\n",
       "      <td>0.00</td>\n",
       "      <td>0</td>\n",
       "    </tr>\n",
       "    <tr>\n",
       "      <th>3</th>\n",
       "      <td>4U 1254-69</td>\n",
       "      <td>194.40500</td>\n",
       "      <td>-69.28911</td>\n",
       "      <td>19.10</td>\n",
       "      <td>0.30</td>\n",
       "      <td>0.1638</td>\n",
       "      <td>25.0</td>\n",
       "      <td>0.0</td>\n",
       "      <td>303.48189</td>\n",
       "      <td>-6.42396</td>\n",
       "      <td>0.0</td>\n",
       "      <td>0.0</td>\n",
       "      <td>0.00</td>\n",
       "      <td>0</td>\n",
       "    </tr>\n",
       "    <tr>\n",
       "      <th>4</th>\n",
       "      <td>GS 1124-684</td>\n",
       "      <td>171.61125</td>\n",
       "      <td>-68.67572</td>\n",
       "      <td>13.30</td>\n",
       "      <td>0.30</td>\n",
       "      <td>0.4325</td>\n",
       "      <td>3000.0</td>\n",
       "      <td>0.0</td>\n",
       "      <td>295.30054</td>\n",
       "      <td>-7.07259</td>\n",
       "      <td>0.0</td>\n",
       "      <td>0.0</td>\n",
       "      <td>0.00</td>\n",
       "      <td>0</td>\n",
       "    </tr>\n",
       "    <tr>\n",
       "      <th>...</th>\n",
       "      <td>...</td>\n",
       "      <td>...</td>\n",
       "      <td>...</td>\n",
       "      <td>...</td>\n",
       "      <td>...</td>\n",
       "      <td>...</td>\n",
       "      <td>...</td>\n",
       "      <td>...</td>\n",
       "      <td>...</td>\n",
       "      <td>...</td>\n",
       "      <td>...</td>\n",
       "      <td>...</td>\n",
       "      <td>...</td>\n",
       "      <td>...</td>\n",
       "    </tr>\n",
       "    <tr>\n",
       "      <th>296</th>\n",
       "      <td>IGR J00370+6122</td>\n",
       "      <td>9.29167</td>\n",
       "      <td>61.35972</td>\n",
       "      <td>9.65</td>\n",
       "      <td>0.56</td>\n",
       "      <td>15.6650</td>\n",
       "      <td>8.0</td>\n",
       "      <td>0.0</td>\n",
       "      <td>121.22213</td>\n",
       "      <td>-1.46464</td>\n",
       "      <td>0.0</td>\n",
       "      <td>0.0</td>\n",
       "      <td>0.00</td>\n",
       "      <td>1</td>\n",
       "    </tr>\n",
       "    <tr>\n",
       "      <th>297</th>\n",
       "      <td>4U 0115+634</td>\n",
       "      <td>19.63292</td>\n",
       "      <td>63.74000</td>\n",
       "      <td>14.50</td>\n",
       "      <td>1.40</td>\n",
       "      <td>24.3000</td>\n",
       "      <td>2.0</td>\n",
       "      <td>350.0</td>\n",
       "      <td>125.92366</td>\n",
       "      <td>1.02574</td>\n",
       "      <td>16.3</td>\n",
       "      <td>0.3</td>\n",
       "      <td>3.61</td>\n",
       "      <td>1</td>\n",
       "    </tr>\n",
       "    <tr>\n",
       "      <th>298</th>\n",
       "      <td>2S 0114+650</td>\n",
       "      <td>19.51125</td>\n",
       "      <td>65.29167</td>\n",
       "      <td>11.00</td>\n",
       "      <td>1.20</td>\n",
       "      <td>11.6000</td>\n",
       "      <td>4.0</td>\n",
       "      <td>0.0</td>\n",
       "      <td>125.70998</td>\n",
       "      <td>2.56353</td>\n",
       "      <td>0.0</td>\n",
       "      <td>0.1</td>\n",
       "      <td>10008.00</td>\n",
       "      <td>1</td>\n",
       "    </tr>\n",
       "    <tr>\n",
       "      <th>299</th>\n",
       "      <td>IGR J01363+6610</td>\n",
       "      <td>23.95833</td>\n",
       "      <td>66.21111</td>\n",
       "      <td>13.29</td>\n",
       "      <td>1.39</td>\n",
       "      <td>0.0000</td>\n",
       "      <td>9.0</td>\n",
       "      <td>0.0</td>\n",
       "      <td>127.39482</td>\n",
       "      <td>3.72480</td>\n",
       "      <td>0.0</td>\n",
       "      <td>0.0</td>\n",
       "      <td>0.00</td>\n",
       "      <td>1</td>\n",
       "    </tr>\n",
       "    <tr>\n",
       "      <th>300</th>\n",
       "      <td>IGR J01583+6713</td>\n",
       "      <td>29.57683</td>\n",
       "      <td>67.22319</td>\n",
       "      <td>0.00</td>\n",
       "      <td>0.00</td>\n",
       "      <td>0.0000</td>\n",
       "      <td>14.0</td>\n",
       "      <td>0.0</td>\n",
       "      <td>129.35216</td>\n",
       "      <td>5.18871</td>\n",
       "      <td>0.0</td>\n",
       "      <td>0.0</td>\n",
       "      <td>0.00</td>\n",
       "      <td>1</td>\n",
       "    </tr>\n",
       "  </tbody>\n",
       "</table>\n",
       "<p>301 rows × 14 columns</p>\n",
       "</div>"
      ],
      "text/plain": [
       "                 NAME         RA       DEC   VMAG  BV_COLOR     PORB    FLUX  \\\n",
       "0    SAX J1603.9-7753  240.97500 -77.88500   0.00      0.00   0.0000   160.0   \n",
       "1         2A 0521-720   80.11683 -71.96481  18.00      0.00   0.3400     9.0   \n",
       "2     RX J0532.7-6926   83.17833 -69.43833   0.00      0.00   0.0000     0.5   \n",
       "3          4U 1254-69  194.40500 -69.28911  19.10      0.30   0.1638    25.0   \n",
       "4         GS 1124-684  171.61125 -68.67572  13.30      0.30   0.4325  3000.0   \n",
       "..                ...        ...       ...    ...       ...      ...     ...   \n",
       "296   IGR J00370+6122    9.29167  61.35972   9.65      0.56  15.6650     8.0   \n",
       "297       4U 0115+634   19.63292  63.74000  14.50      1.40  24.3000     2.0   \n",
       "298       2S 0114+650   19.51125  65.29167  11.00      1.20  11.6000     4.0   \n",
       "299   IGR J01363+6610   23.95833  66.21111  13.29      1.39   0.0000     9.0   \n",
       "300   IGR J01583+6713   29.57683  67.22319   0.00      0.00   0.0000    14.0   \n",
       "\n",
       "     FLUX_MAX        LII       BII  VMAG_MIN  UB_COLOR  PULSE_PERIOD  target  \n",
       "0         0.0  312.42847 -18.73093       0.0       0.0          0.00       0  \n",
       "1        44.0  283.09949 -32.69058      19.0      -0.8          0.00       0  \n",
       "2         0.0  279.93933 -32.15468       0.0       0.0          0.00       0  \n",
       "3         0.0  303.48189  -6.42396       0.0       0.0          0.00       0  \n",
       "4         0.0  295.30054  -7.07259       0.0       0.0          0.00       0  \n",
       "..        ...        ...       ...       ...       ...           ...     ...  \n",
       "296       0.0  121.22213  -1.46464       0.0       0.0          0.00       1  \n",
       "297     350.0  125.92366   1.02574      16.3       0.3          3.61       1  \n",
       "298       0.0  125.70998   2.56353       0.0       0.1      10008.00       1  \n",
       "299       0.0  127.39482   3.72480       0.0       0.0          0.00       1  \n",
       "300       0.0  129.35216   5.18871       0.0       0.0          0.00       1  \n",
       "\n",
       "[301 rows x 14 columns]"
      ]
     },
     "execution_count": 7,
     "metadata": {},
     "output_type": "execute_result"
    }
   ],
   "source": [
    "with fits.open(sourcefile) as hdul:\n",
    "    table_hdu = hdul[1]\n",
    "    df = pd.DataFrame(table_hdu.data)\n",
    "df"
   ]
  },
  {
   "cell_type": "markdown",
   "id": "7e295b6a-6cd5-4bc5-bfee-c5af241b44cb",
   "metadata": {},
   "source": [
    "Above we can see 301 X-ray Binary sources. The low mass binaries are marked with \"0\" at the `target` column, while the high mass ones are marked with \"1\"."
   ]
  },
  {
   "cell_type": "markdown",
   "id": "bf0d8aa6-52ac-4feb-b0ef-5e9330a92cf0",
   "metadata": {},
   "source": [
    "Let us run our classifier just by giving it information about RA, DEC, VMAG, BV_COLOR, PORB, FLUX, FLUX_MAX, LII, BII, VMAG_MIN, UB_COLOR, PULSE_PERIOD about only one source of our choice.\n",
    "\n",
    "We choose `SAX J1603.9-7753` as the example. From the table above we can see that it is a low mass X-ray binary, however we will not give that information to our code."
   ]
  },
  {
   "cell_type": "code",
   "execution_count": 8,
   "id": "1ae7a0fb-812a-4770-8d89-3a2c091989c6",
   "metadata": {
    "tags": []
   },
   "outputs": [],
   "source": [
    "columns_to_select = ['RA', 'DEC', 'VMAG', 'BV_COLOR', 'PORB', 'FLUX', 'FLUX_MAX', 'LII', 'BII', 'VMAG_MIN', 'UB_COLOR', 'PULSE_PERIOD']"
   ]
  },
  {
   "cell_type": "code",
   "execution_count": 9,
   "id": "7b563c78-be60-45bf-92af-f8ccf6a7a6fe",
   "metadata": {
    "tags": []
   },
   "outputs": [],
   "source": [
    "for column in df.columns:\n",
    "    if df[column].dtype.byteorder == '>':  # Big-endian\n",
    "        df[column] = df[column].values.byteswap().newbyteorder()"
   ]
  },
  {
   "cell_type": "code",
   "execution_count": 10,
   "id": "61fe2531-9bfa-4a1f-aca2-22c65f9767e2",
   "metadata": {
    "tags": []
   },
   "outputs": [],
   "source": [
    "new_df = df.loc[df.index == 0, columns_to_select]"
   ]
  },
  {
   "cell_type": "markdown",
   "id": "9f3da38b-5336-4fae-8dd6-e4b5437aaf6f",
   "metadata": {},
   "source": [
    "Let's check out the data sample we will give to our classifier:"
   ]
  },
  {
   "cell_type": "code",
   "execution_count": 12,
   "id": "3d0ba386-574c-456e-a32f-dfe1a1e3ad93",
   "metadata": {
    "tags": []
   },
   "outputs": [
    {
     "name": "stdout",
     "output_type": "stream",
     "text": [
      "        RA     DEC  VMAG  BV_COLOR  PORB   FLUX  FLUX_MAX        LII  \\\n",
      "0  240.975 -77.885   0.0       0.0   0.0  160.0       0.0  312.42847   \n",
      "\n",
      "        BII  VMAG_MIN  UB_COLOR  PULSE_PERIOD  \n",
      "0 -18.73093       0.0       0.0           0.0  \n"
     ]
    }
   ],
   "source": [
    "print(new_df)"
   ]
  },
  {
   "cell_type": "code",
   "execution_count": 30,
   "id": "9a49dce4-d090-453f-8aa7-18470e6b3f6b",
   "metadata": {
    "tags": []
   },
   "outputs": [],
   "source": [
    "values = new_df.iloc[0].tolist()"
   ]
  },
  {
   "cell_type": "markdown",
   "id": "496106aa-a09a-4f96-b5af-9857f591f4a9",
   "metadata": {},
   "source": [
    "Below is the only line of code the user needs to run to check:"
   ]
  },
  {
   "cell_type": "code",
   "execution_count": 34,
   "id": "3d331e06-330f-420b-8457-503ebdd414cd",
   "metadata": {
    "tags": []
   },
   "outputs": [
    {
     "name": "stdout",
     "output_type": "stream",
     "text": [
      "The X-ray Binary source has been classified as low mass\n"
     ]
    }
   ],
   "source": [
    "xbinary_classifier(values)"
   ]
  },
  {
   "cell_type": "markdown",
   "id": "ab0075c0-231f-48c0-b5ae-b9d5b5d35f68",
   "metadata": {},
   "source": [
    "We can see that it has identified it correctly! 🥳"
   ]
  }
 ],
 "metadata": {
  "kernelspec": {
   "display_name": "Python 3 (ipykernel)",
   "language": "python",
   "name": "python3"
  },
  "language_info": {
   "codemirror_mode": {
    "name": "ipython",
    "version": 3
   },
   "file_extension": ".py",
   "mimetype": "text/x-python",
   "name": "python",
   "nbconvert_exporter": "python",
   "pygments_lexer": "ipython3",
   "version": "3.11.5"
  }
 },
 "nbformat": 4,
 "nbformat_minor": 5
}
