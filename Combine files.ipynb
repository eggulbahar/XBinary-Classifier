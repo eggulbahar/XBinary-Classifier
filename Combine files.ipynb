{
 "cells": [
  {
   "cell_type": "markdown",
   "id": "d0dc1a26-5c7a-4721-bca9-a42c7ed348a8",
   "metadata": {},
   "source": [
    "# Combining the low mass and high mass x-ray binary data sets\n",
    "\n",
    "For now we have the data sets hmxbcat which has only high mass xray binaries, and lmxbcat that only has low mass binaries. We want to create a training set and a testing set. Start by opening the fits files and extracting the repective tables. I split the tables in two marking a middle index point.\n",
    "\n"
   ]
  },
  {
   "cell_type": "code",
   "execution_count": 1,
   "id": "eaf36b0e-adab-455f-b498-7072c47ddcd5",
   "metadata": {
    "tags": []
   },
   "outputs": [],
   "source": [
    "from astropy.io import fits\n",
    "from astropy.table import Table, vstack\n",
    "import os\n",
    "import pandas as pd"
   ]
  },
  {
   "cell_type": "code",
   "execution_count": 2,
   "id": "d0bbd9be-0e86-4712-8fff-b69987eac8f9",
   "metadata": {
    "tags": []
   },
   "outputs": [],
   "source": [
    "home = os.path.expanduser('~')\n",
    "workdir = home + \"/XBinary-Classifier\""
   ]
  },
  {
   "cell_type": "code",
   "execution_count": 3,
   "id": "125fad80-ec59-4e01-a99c-0be85492a6cd",
   "metadata": {
    "tags": []
   },
   "outputs": [],
   "source": [
    "lmxbcat_file = workdir + \"/lmxbcat.fits\"\n",
    "hmxbcat_file = workdir + \"/hmxbcat.fits\""
   ]
  },
  {
   "cell_type": "code",
   "execution_count": 4,
   "id": "d2706fa3-b030-4318-b1c2-74f97d36d0bf",
   "metadata": {
    "tags": []
   },
   "outputs": [
    {
     "name": "stdout",
     "output_type": "stream",
     "text": [
      "['NAME', 'RA', 'DEC', 'VMAG', 'BV_COLOR', 'PORB', 'FLUX', 'FLUX_MAX', 'LII', 'BII', 'VMAG_MIN', 'UB_COLOR', 'PULSE_PERIOD']\n"
     ]
    }
   ],
   "source": [
    "with fits.open(lmxbcat_file) as hdul:\n",
    "    table_hdu = hdul[1]\n",
    "    print(table_hdu.columns.names)"
   ]
  },
  {
   "cell_type": "code",
   "execution_count": 5,
   "id": "dd5589a9-68b0-4f58-a742-ecde7d16f5ef",
   "metadata": {
    "tags": []
   },
   "outputs": [
    {
     "name": "stdout",
     "output_type": "stream",
     "text": [
      "['NAME', 'RA', 'DEC', 'PORB', 'FLUX', 'FLUX_MAX', 'LII', 'BII', 'VMAG', 'VMAG_MIN', 'BV_COLOR', 'UB_COLOR', 'PULSE_PERIOD']\n"
     ]
    }
   ],
   "source": [
    "with fits.open(hmxbcat_file) as hdul:\n",
    "    table_hdu = hdul[1]\n",
    "    print(table_hdu.columns.names)"
   ]
  },
  {
   "cell_type": "code",
   "execution_count": 6,
   "id": "33180d38-98d2-4571-99fb-c1430c4e613a",
   "metadata": {
    "tags": []
   },
   "outputs": [
    {
     "name": "stdout",
     "output_type": "stream",
     "text": [
      "Original column names: ['NAME', 'RA', 'DEC', 'PORB', 'FLUX', 'FLUX_MAX', 'LII', 'BII', 'VMAG', 'VMAG_MIN', 'BV_COLOR', 'UB_COLOR', 'PULSE_PERIOD']\n",
      "New column names: ['NAME', 'RA', 'DEC', 'PORB', 'FLUX', 'FLUX_MAX', 'LII', 'BII', 'VMAG', 'VMAG_MIN', 'BV_COLOR', 'UB_COLOR', 'PULSE_PERIOD']\n"
     ]
    }
   ],
   "source": [
    "with fits.open(hmxbcat_file, mode='update') as hdul:\n",
    "    table_hdu = hdul[1]\n",
    "\n",
    "    data = table_hdu.data\n",
    "    columns = table_hdu.columns\n",
    "    \n",
    "    print(\"Original column names:\", columns.names)\n",
    "    \n",
    "    new_column_names = {\n",
    "        'FX': 'FLUX',\n",
    "        'FX_MAX': 'FLUX_MAX',\n",
    "        'PULSE_PER': 'PULSE_PERIOD'\n",
    "    }\n",
    "    \n",
    "    new_columns = []\n",
    "    for col in columns:\n",
    "        name = col.name\n",
    "        if name in new_column_names:\n",
    "            name = new_column_names[name]\n",
    "        new_col = fits.Column(name=name, format=col.format, array=data[col.name])\n",
    "        new_columns.append(new_col)\n",
    "        \n",
    "    new_hdu = fits.BinTableHDU.from_columns(new_columns)\n",
    "    \n",
    "    hdul[1] = new_hdu\n",
    "    \n",
    "    print(\"New column names:\", new_hdu.columns.names)\n"
   ]
  },
  {
   "cell_type": "code",
   "execution_count": 7,
   "id": "ab505f59-1c87-4ca4-8e14-463e46b7c612",
   "metadata": {
    "tags": []
   },
   "outputs": [
    {
     "name": "stdout",
     "output_type": "stream",
     "text": [
      "Filename: /home/egulbaha/XBinary-Classifier/hmxbcat.fits\n",
      "No.    Name      Ver    Type      Cards   Dimensions   Format\n",
      "  0  PRIMARY       1 PrimaryHDU       4   ()      \n",
      "  1                1 BinTableHDU     34   114R x 13C   [21A, D, D, D, D, D, D, D, D, D, D, D, D]   \n",
      "Original column names: ['NAME', 'RA', 'DEC', 'PORB', 'FLUX', 'FLUX_MAX', 'LII', 'BII', 'VMAG', 'VMAG_MIN', 'BV_COLOR', 'UB_COLOR', 'PULSE_PERIOD']\n",
      "New column names: ['NAME', 'RA', 'DEC', 'VMAG', 'BV_COLOR', 'PORB', 'FLUX', 'FLUX_MAX', 'LII', 'BII', 'VMAG_MIN', 'UB_COLOR', 'PULSE_PERIOD']\n",
      "Modified FITS file saved to /home/egulbaha/XBinary-Classifier/hmxbcatnew.fits\n"
     ]
    }
   ],
   "source": [
    "new_hmxbcat_file = workdir + \"/hmxbcatnew.fits\"  \n",
    "with fits.open(hmxbcat_file) as hdul:\n",
    "    hdul.info()\n",
    "    table_hdu = hdul[1]\n",
    "\n",
    "    data = table_hdu.data\n",
    "    columns = table_hdu.columns\n",
    "\n",
    "    print(\"Original column names:\", columns.names)\n",
    "\n",
    "    #desired column order\n",
    "    new_order = ['NAME', 'RA', 'DEC', 'VMAG', 'BV_COLOR', 'PORB', 'FLUX', 'FLUX_MAX', 'LII', 'BII', 'VMAG_MIN', 'UB_COLOR', 'PULSE_PERIOD']\n",
    "\n",
    "    assert set(new_order) == set(columns.names), \"New order does not match original columns.\"\n",
    "\n",
    "    new_columns = []\n",
    "    for name in new_order:\n",
    "        col = columns[name]\n",
    "        new_col = fits.Column(name=col.name, format=col.format, array=data[col.name])\n",
    "        new_columns.append(new_col)\n",
    "\n",
    "    new_hdu = fits.BinTableHDU.from_columns(new_columns)\n",
    "\n",
    "    new_hdul = fits.HDUList([hdul[0], new_hdu])\n",
    "\n",
    "    print(\"New column names:\", new_hdu.columns.names)\n",
    "    new_hdul.writeto(new_hmxbcat_file, overwrite=True)\n",
    "\n",
    "print(f\"Modified FITS file saved to {new_hmxbcat_file}\")"
   ]
  },
  {
   "cell_type": "code",
   "execution_count": 8,
   "id": "c5168289-b9ae-49a9-8c66-c3e56de309fc",
   "metadata": {
    "tags": []
   },
   "outputs": [
    {
     "data": {
      "text/html": [
       "<div>\n",
       "<style scoped>\n",
       "    .dataframe tbody tr th:only-of-type {\n",
       "        vertical-align: middle;\n",
       "    }\n",
       "\n",
       "    .dataframe tbody tr th {\n",
       "        vertical-align: top;\n",
       "    }\n",
       "\n",
       "    .dataframe thead th {\n",
       "        text-align: right;\n",
       "    }\n",
       "</style>\n",
       "<table border=\"1\" class=\"dataframe\">\n",
       "  <thead>\n",
       "    <tr style=\"text-align: right;\">\n",
       "      <th></th>\n",
       "      <th>NAME</th>\n",
       "      <th>RA</th>\n",
       "      <th>DEC</th>\n",
       "      <th>PORB</th>\n",
       "      <th>FLUX</th>\n",
       "      <th>FLUX_MAX</th>\n",
       "      <th>LII</th>\n",
       "      <th>BII</th>\n",
       "      <th>VMAG</th>\n",
       "      <th>VMAG_MIN</th>\n",
       "      <th>BV_COLOR</th>\n",
       "      <th>UB_COLOR</th>\n",
       "      <th>PULSE_PERIOD</th>\n",
       "    </tr>\n",
       "  </thead>\n",
       "  <tbody>\n",
       "    <tr>\n",
       "      <th>0</th>\n",
       "      <td>1H 1253-761</td>\n",
       "      <td>189.81083</td>\n",
       "      <td>-75.37056</td>\n",
       "      <td>0.000</td>\n",
       "      <td>0.6</td>\n",
       "      <td>0.0</td>\n",
       "      <td>302.14353</td>\n",
       "      <td>-12.51748</td>\n",
       "      <td>6.49</td>\n",
       "      <td>0.0</td>\n",
       "      <td>0.08</td>\n",
       "      <td>-0.24</td>\n",
       "      <td>0.00</td>\n",
       "    </tr>\n",
       "    <tr>\n",
       "      <th>1</th>\n",
       "      <td>IGR J12349-6434</td>\n",
       "      <td>188.72792</td>\n",
       "      <td>-64.56544</td>\n",
       "      <td>0.000</td>\n",
       "      <td>1.3</td>\n",
       "      <td>0.0</td>\n",
       "      <td>301.15792</td>\n",
       "      <td>-1.75063</td>\n",
       "      <td>12.46</td>\n",
       "      <td>0.0</td>\n",
       "      <td>1.75</td>\n",
       "      <td>0.28</td>\n",
       "      <td>0.00</td>\n",
       "    </tr>\n",
       "    <tr>\n",
       "      <th>2</th>\n",
       "      <td>2RXP J130159.6-635806</td>\n",
       "      <td>195.49458</td>\n",
       "      <td>-63.96917</td>\n",
       "      <td>0.000</td>\n",
       "      <td>6.3</td>\n",
       "      <td>0.0</td>\n",
       "      <td>304.08824</td>\n",
       "      <td>-1.12109</td>\n",
       "      <td>0.00</td>\n",
       "      <td>0.0</td>\n",
       "      <td>0.00</td>\n",
       "      <td>0.00</td>\n",
       "      <td>704.00</td>\n",
       "    </tr>\n",
       "    <tr>\n",
       "      <th>3</th>\n",
       "      <td>1H 1249-637</td>\n",
       "      <td>190.70958</td>\n",
       "      <td>-63.05861</td>\n",
       "      <td>0.000</td>\n",
       "      <td>2.2</td>\n",
       "      <td>0.0</td>\n",
       "      <td>301.95802</td>\n",
       "      <td>-0.20313</td>\n",
       "      <td>5.31</td>\n",
       "      <td>0.0</td>\n",
       "      <td>0.27</td>\n",
       "      <td>-0.79</td>\n",
       "      <td>14200.00</td>\n",
       "    </tr>\n",
       "    <tr>\n",
       "      <th>4</th>\n",
       "      <td>4U 1223-624</td>\n",
       "      <td>186.65667</td>\n",
       "      <td>-62.77028</td>\n",
       "      <td>41.590</td>\n",
       "      <td>9.0</td>\n",
       "      <td>1000.0</td>\n",
       "      <td>300.09815</td>\n",
       "      <td>-0.03512</td>\n",
       "      <td>10.80</td>\n",
       "      <td>0.0</td>\n",
       "      <td>1.76</td>\n",
       "      <td>0.42</td>\n",
       "      <td>696.00</td>\n",
       "    </tr>\n",
       "    <tr>\n",
       "      <th>...</th>\n",
       "      <td>...</td>\n",
       "      <td>...</td>\n",
       "      <td>...</td>\n",
       "      <td>...</td>\n",
       "      <td>...</td>\n",
       "      <td>...</td>\n",
       "      <td>...</td>\n",
       "      <td>...</td>\n",
       "      <td>...</td>\n",
       "      <td>...</td>\n",
       "      <td>...</td>\n",
       "      <td>...</td>\n",
       "      <td>...</td>\n",
       "    </tr>\n",
       "    <tr>\n",
       "      <th>109</th>\n",
       "      <td>IGR J00370+6122</td>\n",
       "      <td>9.29167</td>\n",
       "      <td>61.35972</td>\n",
       "      <td>15.665</td>\n",
       "      <td>8.0</td>\n",
       "      <td>0.0</td>\n",
       "      <td>121.22213</td>\n",
       "      <td>-1.46464</td>\n",
       "      <td>9.65</td>\n",
       "      <td>0.0</td>\n",
       "      <td>0.56</td>\n",
       "      <td>0.00</td>\n",
       "      <td>0.00</td>\n",
       "    </tr>\n",
       "    <tr>\n",
       "      <th>110</th>\n",
       "      <td>4U 0115+634</td>\n",
       "      <td>19.63292</td>\n",
       "      <td>63.74000</td>\n",
       "      <td>24.300</td>\n",
       "      <td>2.0</td>\n",
       "      <td>350.0</td>\n",
       "      <td>125.92366</td>\n",
       "      <td>1.02574</td>\n",
       "      <td>14.50</td>\n",
       "      <td>16.3</td>\n",
       "      <td>1.40</td>\n",
       "      <td>0.30</td>\n",
       "      <td>3.61</td>\n",
       "    </tr>\n",
       "    <tr>\n",
       "      <th>111</th>\n",
       "      <td>2S 0114+650</td>\n",
       "      <td>19.51125</td>\n",
       "      <td>65.29167</td>\n",
       "      <td>11.600</td>\n",
       "      <td>4.0</td>\n",
       "      <td>0.0</td>\n",
       "      <td>125.70998</td>\n",
       "      <td>2.56353</td>\n",
       "      <td>11.00</td>\n",
       "      <td>0.0</td>\n",
       "      <td>1.20</td>\n",
       "      <td>0.10</td>\n",
       "      <td>10008.00</td>\n",
       "    </tr>\n",
       "    <tr>\n",
       "      <th>112</th>\n",
       "      <td>IGR J01363+6610</td>\n",
       "      <td>23.95833</td>\n",
       "      <td>66.21111</td>\n",
       "      <td>0.000</td>\n",
       "      <td>9.0</td>\n",
       "      <td>0.0</td>\n",
       "      <td>127.39482</td>\n",
       "      <td>3.72480</td>\n",
       "      <td>13.29</td>\n",
       "      <td>0.0</td>\n",
       "      <td>1.39</td>\n",
       "      <td>0.00</td>\n",
       "      <td>0.00</td>\n",
       "    </tr>\n",
       "    <tr>\n",
       "      <th>113</th>\n",
       "      <td>IGR J01583+6713</td>\n",
       "      <td>29.57683</td>\n",
       "      <td>67.22319</td>\n",
       "      <td>0.000</td>\n",
       "      <td>14.0</td>\n",
       "      <td>0.0</td>\n",
       "      <td>129.35216</td>\n",
       "      <td>5.18871</td>\n",
       "      <td>0.00</td>\n",
       "      <td>0.0</td>\n",
       "      <td>0.00</td>\n",
       "      <td>0.00</td>\n",
       "      <td>0.00</td>\n",
       "    </tr>\n",
       "  </tbody>\n",
       "</table>\n",
       "<p>114 rows × 13 columns</p>\n",
       "</div>"
      ],
      "text/plain": [
       "                      NAME         RA       DEC    PORB  FLUX  FLUX_MAX  \\\n",
       "0              1H 1253-761  189.81083 -75.37056   0.000   0.6       0.0   \n",
       "1          IGR J12349-6434  188.72792 -64.56544   0.000   1.3       0.0   \n",
       "2    2RXP J130159.6-635806  195.49458 -63.96917   0.000   6.3       0.0   \n",
       "3              1H 1249-637  190.70958 -63.05861   0.000   2.2       0.0   \n",
       "4              4U 1223-624  186.65667 -62.77028  41.590   9.0    1000.0   \n",
       "..                     ...        ...       ...     ...   ...       ...   \n",
       "109        IGR J00370+6122    9.29167  61.35972  15.665   8.0       0.0   \n",
       "110            4U 0115+634   19.63292  63.74000  24.300   2.0     350.0   \n",
       "111            2S 0114+650   19.51125  65.29167  11.600   4.0       0.0   \n",
       "112        IGR J01363+6610   23.95833  66.21111   0.000   9.0       0.0   \n",
       "113        IGR J01583+6713   29.57683  67.22319   0.000  14.0       0.0   \n",
       "\n",
       "           LII       BII   VMAG  VMAG_MIN  BV_COLOR  UB_COLOR  PULSE_PERIOD  \n",
       "0    302.14353 -12.51748   6.49       0.0      0.08     -0.24          0.00  \n",
       "1    301.15792  -1.75063  12.46       0.0      1.75      0.28          0.00  \n",
       "2    304.08824  -1.12109   0.00       0.0      0.00      0.00        704.00  \n",
       "3    301.95802  -0.20313   5.31       0.0      0.27     -0.79      14200.00  \n",
       "4    300.09815  -0.03512  10.80       0.0      1.76      0.42        696.00  \n",
       "..         ...       ...    ...       ...       ...       ...           ...  \n",
       "109  121.22213  -1.46464   9.65       0.0      0.56      0.00          0.00  \n",
       "110  125.92366   1.02574  14.50      16.3      1.40      0.30          3.61  \n",
       "111  125.70998   2.56353  11.00       0.0      1.20      0.10      10008.00  \n",
       "112  127.39482   3.72480  13.29       0.0      1.39      0.00          0.00  \n",
       "113  129.35216   5.18871   0.00       0.0      0.00      0.00          0.00  \n",
       "\n",
       "[114 rows x 13 columns]"
      ]
     },
     "execution_count": 8,
     "metadata": {},
     "output_type": "execute_result"
    }
   ],
   "source": [
    "with fits.open(hmxbcat_file) as hdul:\n",
    "    table_hdu = hdul[1]\n",
    "    df = pd.DataFrame(table_hdu.data)\n",
    "df"
   ]
  },
  {
   "cell_type": "code",
   "execution_count": 9,
   "id": "b4d5d0fe-33cb-4abd-baee-f965e1c511bd",
   "metadata": {
    "tags": []
   },
   "outputs": [
    {
     "data": {
      "text/html": [
       "<div>\n",
       "<style scoped>\n",
       "    .dataframe tbody tr th:only-of-type {\n",
       "        vertical-align: middle;\n",
       "    }\n",
       "\n",
       "    .dataframe tbody tr th {\n",
       "        vertical-align: top;\n",
       "    }\n",
       "\n",
       "    .dataframe thead th {\n",
       "        text-align: right;\n",
       "    }\n",
       "</style>\n",
       "<table border=\"1\" class=\"dataframe\">\n",
       "  <thead>\n",
       "    <tr style=\"text-align: right;\">\n",
       "      <th></th>\n",
       "      <th>NAME</th>\n",
       "      <th>RA</th>\n",
       "      <th>DEC</th>\n",
       "      <th>VMAG</th>\n",
       "      <th>BV_COLOR</th>\n",
       "      <th>PORB</th>\n",
       "      <th>FLUX</th>\n",
       "      <th>FLUX_MAX</th>\n",
       "      <th>LII</th>\n",
       "      <th>BII</th>\n",
       "      <th>VMAG_MIN</th>\n",
       "      <th>UB_COLOR</th>\n",
       "      <th>PULSE_PERIOD</th>\n",
       "    </tr>\n",
       "  </thead>\n",
       "  <tbody>\n",
       "    <tr>\n",
       "      <th>0</th>\n",
       "      <td>1H 1253-761</td>\n",
       "      <td>189.81083</td>\n",
       "      <td>-75.37056</td>\n",
       "      <td>6.49</td>\n",
       "      <td>0.08</td>\n",
       "      <td>0.000</td>\n",
       "      <td>0.6</td>\n",
       "      <td>0.0</td>\n",
       "      <td>302.14353</td>\n",
       "      <td>-12.51748</td>\n",
       "      <td>0.0</td>\n",
       "      <td>-0.24</td>\n",
       "      <td>0.00</td>\n",
       "    </tr>\n",
       "    <tr>\n",
       "      <th>1</th>\n",
       "      <td>IGR J12349-6434</td>\n",
       "      <td>188.72792</td>\n",
       "      <td>-64.56544</td>\n",
       "      <td>12.46</td>\n",
       "      <td>1.75</td>\n",
       "      <td>0.000</td>\n",
       "      <td>1.3</td>\n",
       "      <td>0.0</td>\n",
       "      <td>301.15792</td>\n",
       "      <td>-1.75063</td>\n",
       "      <td>0.0</td>\n",
       "      <td>0.28</td>\n",
       "      <td>0.00</td>\n",
       "    </tr>\n",
       "    <tr>\n",
       "      <th>2</th>\n",
       "      <td>2RXP J130159.6-635806</td>\n",
       "      <td>195.49458</td>\n",
       "      <td>-63.96917</td>\n",
       "      <td>0.00</td>\n",
       "      <td>0.00</td>\n",
       "      <td>0.000</td>\n",
       "      <td>6.3</td>\n",
       "      <td>0.0</td>\n",
       "      <td>304.08824</td>\n",
       "      <td>-1.12109</td>\n",
       "      <td>0.0</td>\n",
       "      <td>0.00</td>\n",
       "      <td>704.00</td>\n",
       "    </tr>\n",
       "    <tr>\n",
       "      <th>3</th>\n",
       "      <td>1H 1249-637</td>\n",
       "      <td>190.70958</td>\n",
       "      <td>-63.05861</td>\n",
       "      <td>5.31</td>\n",
       "      <td>0.27</td>\n",
       "      <td>0.000</td>\n",
       "      <td>2.2</td>\n",
       "      <td>0.0</td>\n",
       "      <td>301.95802</td>\n",
       "      <td>-0.20313</td>\n",
       "      <td>0.0</td>\n",
       "      <td>-0.79</td>\n",
       "      <td>14200.00</td>\n",
       "    </tr>\n",
       "    <tr>\n",
       "      <th>4</th>\n",
       "      <td>4U 1223-624</td>\n",
       "      <td>186.65667</td>\n",
       "      <td>-62.77028</td>\n",
       "      <td>10.80</td>\n",
       "      <td>1.76</td>\n",
       "      <td>41.590</td>\n",
       "      <td>9.0</td>\n",
       "      <td>1000.0</td>\n",
       "      <td>300.09815</td>\n",
       "      <td>-0.03512</td>\n",
       "      <td>0.0</td>\n",
       "      <td>0.42</td>\n",
       "      <td>696.00</td>\n",
       "    </tr>\n",
       "    <tr>\n",
       "      <th>...</th>\n",
       "      <td>...</td>\n",
       "      <td>...</td>\n",
       "      <td>...</td>\n",
       "      <td>...</td>\n",
       "      <td>...</td>\n",
       "      <td>...</td>\n",
       "      <td>...</td>\n",
       "      <td>...</td>\n",
       "      <td>...</td>\n",
       "      <td>...</td>\n",
       "      <td>...</td>\n",
       "      <td>...</td>\n",
       "      <td>...</td>\n",
       "    </tr>\n",
       "    <tr>\n",
       "      <th>109</th>\n",
       "      <td>IGR J00370+6122</td>\n",
       "      <td>9.29167</td>\n",
       "      <td>61.35972</td>\n",
       "      <td>9.65</td>\n",
       "      <td>0.56</td>\n",
       "      <td>15.665</td>\n",
       "      <td>8.0</td>\n",
       "      <td>0.0</td>\n",
       "      <td>121.22213</td>\n",
       "      <td>-1.46464</td>\n",
       "      <td>0.0</td>\n",
       "      <td>0.00</td>\n",
       "      <td>0.00</td>\n",
       "    </tr>\n",
       "    <tr>\n",
       "      <th>110</th>\n",
       "      <td>4U 0115+634</td>\n",
       "      <td>19.63292</td>\n",
       "      <td>63.74000</td>\n",
       "      <td>14.50</td>\n",
       "      <td>1.40</td>\n",
       "      <td>24.300</td>\n",
       "      <td>2.0</td>\n",
       "      <td>350.0</td>\n",
       "      <td>125.92366</td>\n",
       "      <td>1.02574</td>\n",
       "      <td>16.3</td>\n",
       "      <td>0.30</td>\n",
       "      <td>3.61</td>\n",
       "    </tr>\n",
       "    <tr>\n",
       "      <th>111</th>\n",
       "      <td>2S 0114+650</td>\n",
       "      <td>19.51125</td>\n",
       "      <td>65.29167</td>\n",
       "      <td>11.00</td>\n",
       "      <td>1.20</td>\n",
       "      <td>11.600</td>\n",
       "      <td>4.0</td>\n",
       "      <td>0.0</td>\n",
       "      <td>125.70998</td>\n",
       "      <td>2.56353</td>\n",
       "      <td>0.0</td>\n",
       "      <td>0.10</td>\n",
       "      <td>10008.00</td>\n",
       "    </tr>\n",
       "    <tr>\n",
       "      <th>112</th>\n",
       "      <td>IGR J01363+6610</td>\n",
       "      <td>23.95833</td>\n",
       "      <td>66.21111</td>\n",
       "      <td>13.29</td>\n",
       "      <td>1.39</td>\n",
       "      <td>0.000</td>\n",
       "      <td>9.0</td>\n",
       "      <td>0.0</td>\n",
       "      <td>127.39482</td>\n",
       "      <td>3.72480</td>\n",
       "      <td>0.0</td>\n",
       "      <td>0.00</td>\n",
       "      <td>0.00</td>\n",
       "    </tr>\n",
       "    <tr>\n",
       "      <th>113</th>\n",
       "      <td>IGR J01583+6713</td>\n",
       "      <td>29.57683</td>\n",
       "      <td>67.22319</td>\n",
       "      <td>0.00</td>\n",
       "      <td>0.00</td>\n",
       "      <td>0.000</td>\n",
       "      <td>14.0</td>\n",
       "      <td>0.0</td>\n",
       "      <td>129.35216</td>\n",
       "      <td>5.18871</td>\n",
       "      <td>0.0</td>\n",
       "      <td>0.00</td>\n",
       "      <td>0.00</td>\n",
       "    </tr>\n",
       "  </tbody>\n",
       "</table>\n",
       "<p>114 rows × 13 columns</p>\n",
       "</div>"
      ],
      "text/plain": [
       "                      NAME         RA       DEC   VMAG  BV_COLOR    PORB  \\\n",
       "0              1H 1253-761  189.81083 -75.37056   6.49      0.08   0.000   \n",
       "1          IGR J12349-6434  188.72792 -64.56544  12.46      1.75   0.000   \n",
       "2    2RXP J130159.6-635806  195.49458 -63.96917   0.00      0.00   0.000   \n",
       "3              1H 1249-637  190.70958 -63.05861   5.31      0.27   0.000   \n",
       "4              4U 1223-624  186.65667 -62.77028  10.80      1.76  41.590   \n",
       "..                     ...        ...       ...    ...       ...     ...   \n",
       "109        IGR J00370+6122    9.29167  61.35972   9.65      0.56  15.665   \n",
       "110            4U 0115+634   19.63292  63.74000  14.50      1.40  24.300   \n",
       "111            2S 0114+650   19.51125  65.29167  11.00      1.20  11.600   \n",
       "112        IGR J01363+6610   23.95833  66.21111  13.29      1.39   0.000   \n",
       "113        IGR J01583+6713   29.57683  67.22319   0.00      0.00   0.000   \n",
       "\n",
       "     FLUX  FLUX_MAX        LII       BII  VMAG_MIN  UB_COLOR  PULSE_PERIOD  \n",
       "0     0.6       0.0  302.14353 -12.51748       0.0     -0.24          0.00  \n",
       "1     1.3       0.0  301.15792  -1.75063       0.0      0.28          0.00  \n",
       "2     6.3       0.0  304.08824  -1.12109       0.0      0.00        704.00  \n",
       "3     2.2       0.0  301.95802  -0.20313       0.0     -0.79      14200.00  \n",
       "4     9.0    1000.0  300.09815  -0.03512       0.0      0.42        696.00  \n",
       "..    ...       ...        ...       ...       ...       ...           ...  \n",
       "109   8.0       0.0  121.22213  -1.46464       0.0      0.00          0.00  \n",
       "110   2.0     350.0  125.92366   1.02574      16.3      0.30          3.61  \n",
       "111   4.0       0.0  125.70998   2.56353       0.0      0.10      10008.00  \n",
       "112   9.0       0.0  127.39482   3.72480       0.0      0.00          0.00  \n",
       "113  14.0       0.0  129.35216   5.18871       0.0      0.00          0.00  \n",
       "\n",
       "[114 rows x 13 columns]"
      ]
     },
     "execution_count": 9,
     "metadata": {},
     "output_type": "execute_result"
    }
   ],
   "source": [
    "with fits.open(new_hmxbcat_file) as hdul:\n",
    "    table_hdu = hdul[1]\n",
    "    df = pd.DataFrame(table_hdu.data)\n",
    "df"
   ]
  },
  {
   "cell_type": "code",
   "execution_count": 10,
   "id": "891b02d4-188f-4428-826e-5cfca10b82d0",
   "metadata": {
    "tags": []
   },
   "outputs": [],
   "source": [
    "hdul_lmxb = fits.open(lmxbcat_file)\n",
    "hdul_hmxb = fits.open(new_hmxbcat_file)"
   ]
  },
  {
   "cell_type": "code",
   "execution_count": 11,
   "id": "5b6d101c-58bc-467a-9ce4-1efd3a2df4a8",
   "metadata": {
    "tags": []
   },
   "outputs": [],
   "source": [
    "table_lmxb = Table(hdul_lmxb[1].data)\n",
    "table_hmxb = Table(hdul_hmxb[1].data)"
   ]
  },
  {
   "cell_type": "code",
   "execution_count": 12,
   "id": "490b4b04-1be2-40aa-8a73-cc90b13ad240",
   "metadata": {
    "tags": []
   },
   "outputs": [],
   "source": [
    "lmxb_mid_index = len(table_lmxb) // 2\n",
    "hmxb_mid_index = len(table_hmxb) // 2"
   ]
  },
  {
   "cell_type": "markdown",
   "id": "ed3cb3a8-88f8-4284-906b-1603f2d9780b",
   "metadata": {},
   "source": [
    "* Training set\n",
    "\n",
    "The first halves of the both tables are combined together, and adding a target column"
   ]
  },
  {
   "cell_type": "code",
   "execution_count": 13,
   "id": "495ec410-5ec9-48de-b87d-e0742f3e6667",
   "metadata": {
    "tags": []
   },
   "outputs": [],
   "source": [
    "lmxb_first_half = table_lmxb[:lmxb_mid_index]\n",
    "hmxb_first_half = table_hmxb[:hmxb_mid_index]"
   ]
  },
  {
   "cell_type": "code",
   "execution_count": 14,
   "id": "7c05e36f-d199-4a5f-bc48-6549d8c6f7e8",
   "metadata": {
    "tags": []
   },
   "outputs": [],
   "source": [
    "lmxb_first_half['target'] = 0\n",
    "hmxb_first_half['target'] = 1"
   ]
  },
  {
   "cell_type": "code",
   "execution_count": 15,
   "id": "34013d9a-5822-47ff-901f-ab50dc251a67",
   "metadata": {
    "tags": []
   },
   "outputs": [],
   "source": [
    "training_table = vstack([lmxb_first_half, hmxb_first_half])"
   ]
  },
  {
   "cell_type": "code",
   "execution_count": 16,
   "id": "066611c7-cb94-4b64-b351-80fa236b7fd9",
   "metadata": {
    "tags": []
   },
   "outputs": [],
   "source": [
    "training_table.write('training.fits', format='fits', overwrite=True)"
   ]
  },
  {
   "cell_type": "markdown",
   "id": "2576d0a0-de74-4bb7-8665-1c4cb7af62a7",
   "metadata": {},
   "source": [
    "* Testing set"
   ]
  },
  {
   "cell_type": "code",
   "execution_count": 17,
   "id": "b7a26636-7bf1-4814-9af4-3126de228c7a",
   "metadata": {
    "tags": []
   },
   "outputs": [],
   "source": [
    "lmxb_second_half = table_lmxb[lmxb_mid_index:]\n",
    "hmxb_second_half = table_hmxb[hmxb_mid_index:]"
   ]
  },
  {
   "cell_type": "code",
   "execution_count": 18,
   "id": "26c4f195-324a-4db9-be2e-ad44d2720d96",
   "metadata": {
    "tags": []
   },
   "outputs": [],
   "source": [
    "lmxb_second_half['target'] = 0\n",
    "hmxb_second_half['target'] = 1"
   ]
  },
  {
   "cell_type": "code",
   "execution_count": 19,
   "id": "01133dc7-bf54-4ac8-8ba8-9a3d9e23a283",
   "metadata": {
    "tags": []
   },
   "outputs": [],
   "source": [
    "test_table = vstack([lmxb_second_half, hmxb_second_half])"
   ]
  },
  {
   "cell_type": "code",
   "execution_count": 20,
   "id": "29efd868-7943-4ede-834d-0ed043800f45",
   "metadata": {
    "tags": []
   },
   "outputs": [],
   "source": [
    "test_table.write('testing.fits', format='fits', overwrite=True)"
   ]
  },
  {
   "cell_type": "code",
   "execution_count": 21,
   "id": "380d8e39-611f-49d7-b03f-0cf6dcdd5140",
   "metadata": {
    "tags": []
   },
   "outputs": [],
   "source": [
    "hdul_lmxb.close()\n",
    "hdul_hmxb.close()"
   ]
  },
  {
   "cell_type": "code",
   "execution_count": 22,
   "id": "fe559e7b-c1a7-43d8-862e-a10752d80269",
   "metadata": {},
   "outputs": [
    {
     "name": "stdout",
     "output_type": "stream",
     "text": [
      "Filename: training.fits\n",
      "No.    Name      Ver    Type      Cards   Dimensions   Format\n",
      "  0  PRIMARY       1 PrimaryHDU       4   ()      \n",
      "  1                1 BinTableHDU     36   150R x 14C   [24A, D, D, D, D, D, D, D, D, D, D, D, D, K]   \n"
     ]
    }
   ],
   "source": [
    "hdu_list = fits.open('training.fits')\n",
    "hdu_list.info()"
   ]
  },
  {
   "cell_type": "markdown",
   "id": "2f24c87c-8f79-45ec-9830-fc0d3d480b93",
   "metadata": {},
   "source": [
    "* combine all"
   ]
  },
  {
   "cell_type": "code",
   "execution_count": 23,
   "id": "388d5918-5ac2-4070-8abe-481efbe5c245",
   "metadata": {
    "tags": []
   },
   "outputs": [],
   "source": [
    "hdul_train = fits.open('training.fits')\n",
    "hdul_test = fits.open('testing.fits')"
   ]
  },
  {
   "cell_type": "code",
   "execution_count": 24,
   "id": "d89a235e-0248-449b-9f5c-436250bd6e1b",
   "metadata": {
    "tags": []
   },
   "outputs": [],
   "source": [
    "table_train = Table(hdul_train[1].data)\n",
    "table_test = Table(hdul_test[1].data)"
   ]
  },
  {
   "cell_type": "code",
   "execution_count": 25,
   "id": "cb698203-8a99-433a-8bd0-d5e65979652a",
   "metadata": {
    "tags": []
   },
   "outputs": [],
   "source": [
    "all_table = vstack([table_train, table_test])"
   ]
  },
  {
   "cell_type": "code",
   "execution_count": 26,
   "id": "b482a348-fdaf-483c-b7f6-69b42efdb520",
   "metadata": {
    "tags": []
   },
   "outputs": [],
   "source": [
    "all_table.write('alldata.fits', format='fits', overwrite=True)"
   ]
  },
  {
   "cell_type": "code",
   "execution_count": 27,
   "id": "a0114996-9c47-4d87-946d-7f0b57ab92ad",
   "metadata": {
    "tags": []
   },
   "outputs": [],
   "source": [
    "hdul_train.close()\n",
    "hdul_test.close()"
   ]
  },
  {
   "cell_type": "code",
   "execution_count": null,
   "id": "90308abb-1de3-40aa-b416-c4675253d7d0",
   "metadata": {},
   "outputs": [],
   "source": []
  }
 ],
 "metadata": {
  "kernelspec": {
   "display_name": "Python 3 (ipykernel)",
   "language": "python",
   "name": "python3"
  },
  "language_info": {
   "codemirror_mode": {
    "name": "ipython",
    "version": 3
   },
   "file_extension": ".py",
   "mimetype": "text/x-python",
   "name": "python",
   "nbconvert_exporter": "python",
   "pygments_lexer": "ipython3",
   "version": "3.11.5"
  }
 },
 "nbformat": 4,
 "nbformat_minor": 5
}
