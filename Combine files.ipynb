{
 "cells": [
  {
   "cell_type": "markdown",
   "id": "d0dc1a26-5c7a-4721-bca9-a42c7ed348a8",
   "metadata": {},
   "source": [
    "# Combining the low mass and high mass x-ray binary data sets\n",
    "\n",
    "For now we have the data sets hmxbcat which has only high mass xray binaries, and lmxbcat that only has low mass binaries. We want to create a training set and a testing set. Start by opening the fits files and extracting the repective tables. I split the tables in two marking a middle index point.\n",
    "\n"
   ]
  },
  {
   "cell_type": "code",
   "execution_count": 1,
   "id": "eaf36b0e-adab-455f-b498-7072c47ddcd5",
   "metadata": {
    "tags": []
   },
   "outputs": [],
   "source": [
    "from astropy.io import fits\n",
    "from astropy.table import Table, vstack\n",
    "import os"
   ]
  },
  {
   "cell_type": "code",
   "execution_count": 2,
   "id": "d0bbd9be-0e86-4712-8fff-b69987eac8f9",
   "metadata": {
    "tags": []
   },
   "outputs": [],
   "source": [
    "home = os.path.expanduser('~')\n",
    "workdir = home + \"/XBinary-Classifier\""
   ]
  },
  {
   "cell_type": "code",
   "execution_count": 3,
   "id": "125fad80-ec59-4e01-a99c-0be85492a6cd",
   "metadata": {
    "tags": []
   },
   "outputs": [],
   "source": [
    "lmxbcat_file = workdir + \"/lmxbcat.fits\"\n",
    "hmxbcat_file = workdir + \"/hmxbcat.fits\""
   ]
  },
  {
   "cell_type": "code",
   "execution_count": 4,
   "id": "891b02d4-188f-4428-826e-5cfca10b82d0",
   "metadata": {
    "tags": []
   },
   "outputs": [],
   "source": [
    "hdul_lmxb = fits.open(lmxbcat_file)\n",
    "hdul_hmxb = fits.open(hmxbcat_file)"
   ]
  },
  {
   "cell_type": "code",
   "execution_count": 5,
   "id": "5b6d101c-58bc-467a-9ce4-1efd3a2df4a8",
   "metadata": {
    "tags": []
   },
   "outputs": [],
   "source": [
    "table_lmxb = Table(hdul_lmxb[1].data)\n",
    "table_hmxb = Table(hdul_hmxb[1].data)"
   ]
  },
  {
   "cell_type": "code",
   "execution_count": 6,
   "id": "490b4b04-1be2-40aa-8a73-cc90b13ad240",
   "metadata": {
    "tags": []
   },
   "outputs": [],
   "source": [
    "lmxb_mid_index = len(table_lmxb) // 2\n",
    "hmxb_mid_index = len(table_hmxb) // 2"
   ]
  },
  {
   "cell_type": "markdown",
   "id": "ed3cb3a8-88f8-4284-906b-1603f2d9780b",
   "metadata": {},
   "source": [
    "* Training set\n",
    "\n",
    "The first halves of the both tables are combined together, and adding a target column"
   ]
  },
  {
   "cell_type": "code",
   "execution_count": 7,
   "id": "495ec410-5ec9-48de-b87d-e0742f3e6667",
   "metadata": {
    "tags": []
   },
   "outputs": [],
   "source": [
    "lmxb_first_half = table_lmxb[:lmxb_mid_index]\n",
    "hmxb_first_half = table_hmxb[:hmxb_mid_index]"
   ]
  },
  {
   "cell_type": "code",
   "execution_count": 8,
   "id": "7c05e36f-d199-4a5f-bc48-6549d8c6f7e8",
   "metadata": {
    "tags": []
   },
   "outputs": [],
   "source": [
    "lmxb_first_half['target'] = 0\n",
    "hmxb_first_half['target'] = 1"
   ]
  },
  {
   "cell_type": "code",
   "execution_count": 9,
   "id": "34013d9a-5822-47ff-901f-ab50dc251a67",
   "metadata": {
    "tags": []
   },
   "outputs": [],
   "source": [
    "training_table = vstack([lmxb_first_half, hmxb_first_half])"
   ]
  },
  {
   "cell_type": "code",
   "execution_count": 10,
   "id": "066611c7-cb94-4b64-b351-80fa236b7fd9",
   "metadata": {
    "tags": []
   },
   "outputs": [],
   "source": [
    "training_table.write('training.fits', format='fits', overwrite=True)"
   ]
  },
  {
   "cell_type": "markdown",
   "id": "2576d0a0-de74-4bb7-8665-1c4cb7af62a7",
   "metadata": {},
   "source": [
    "* Testing set"
   ]
  },
  {
   "cell_type": "code",
   "execution_count": 11,
   "id": "b7a26636-7bf1-4814-9af4-3126de228c7a",
   "metadata": {
    "tags": []
   },
   "outputs": [],
   "source": [
    "lmxb_second_half = table_lmxb[lmxb_mid_index:]\n",
    "hmxb_second_half = table_hmxb[hmxb_mid_index:]"
   ]
  },
  {
   "cell_type": "code",
   "execution_count": 12,
   "id": "01133dc7-bf54-4ac8-8ba8-9a3d9e23a283",
   "metadata": {
    "tags": []
   },
   "outputs": [],
   "source": [
    "test_table = vstack([lmxb_second_half, hmxb_second_half])"
   ]
  },
  {
   "cell_type": "code",
   "execution_count": 13,
   "id": "29efd868-7943-4ede-834d-0ed043800f45",
   "metadata": {
    "tags": []
   },
   "outputs": [],
   "source": [
    "test_table.write('testing.fits', format='fits', overwrite=True)"
   ]
  },
  {
   "cell_type": "code",
   "execution_count": 14,
   "id": "380d8e39-611f-49d7-b03f-0cf6dcdd5140",
   "metadata": {
    "tags": []
   },
   "outputs": [],
   "source": [
    "hdul_lmxb.close()\n",
    "hdul_hmxb.close()"
   ]
  },
  {
   "cell_type": "code",
   "execution_count": 15,
   "id": "fe559e7b-c1a7-43d8-862e-a10752d80269",
   "metadata": {},
   "outputs": [
    {
     "name": "stdout",
     "output_type": "stream",
     "text": [
      "Filename: training.fits\n",
      "No.    Name      Ver    Type      Cards   Dimensions   Format\n",
      "  0  PRIMARY       1 PrimaryHDU       4   ()      \n",
      "  1                1 BinTableHDU     44   150R x 17C   [24A, D, D, D, D, D, D, J, D, D, D, D, D, K, D, D, D]   \n"
     ]
    }
   ],
   "source": [
    "hdu_list = fits.open('training.fits')\n",
    "hdu_list.info()"
   ]
  },
  {
   "cell_type": "code",
   "execution_count": null,
   "id": "b8012030-72c7-44b2-8739-3a05eab72f02",
   "metadata": {},
   "outputs": [],
   "source": []
  }
 ],
 "metadata": {
  "kernelspec": {
   "display_name": "Python 3 (ipykernel)",
   "language": "python",
   "name": "python3"
  },
  "language_info": {
   "codemirror_mode": {
    "name": "ipython",
    "version": 3
   },
   "file_extension": ".py",
   "mimetype": "text/x-python",
   "name": "python",
   "nbconvert_exporter": "python",
   "pygments_lexer": "ipython3",
   "version": "3.11.5"
  }
 },
 "nbformat": 4,
 "nbformat_minor": 5
}
